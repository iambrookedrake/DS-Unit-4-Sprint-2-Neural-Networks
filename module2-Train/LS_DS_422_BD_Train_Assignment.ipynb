{
  "nbformat": 4,
  "nbformat_minor": 0,
  "metadata": {
    "colab": {
      "name": "LS_DS_422_Train_Assignment.ipynb",
      "provenance": [],
      "collapsed_sections": [],
      "toc_visible": true
    },
    "kernelspec": {
      "display_name": "Python 3",
      "language": "python",
      "name": "python3"
    },
    "language_info": {
      "codemirror_mode": {
        "name": "ipython",
        "version": 3
      },
      "file_extension": ".py",
      "mimetype": "text/x-python",
      "name": "python",
      "nbconvert_exporter": "python",
      "pygments_lexer": "ipython3",
      "version": "3.7.3"
    },
    "nteract": {
      "version": "0.22.4"
    }
  },
  "cells": [
    {
      "cell_type": "markdown",
      "metadata": {
        "id": "NGGrt9EYlCqY"
      },
      "source": [
        "<img align=\"left\" src=\"https://lever-client-logos.s3.amazonaws.com/864372b1-534c-480e-acd5-9711f850815c-1524247202159.png\" width=200>\n",
        "<br></br>\n",
        "<br></br>\n",
        "\n",
        "# Train Practice\n",
        "\n",
        "## *Data Science Unit 4 Sprint 2 Assignment 2*\n",
        "\n",
        "Continue to use TensorFlow Keras & a sample of the [Quickdraw dataset](https://github.com/googlecreativelab/quickdraw-dataset) to build a sketch classification model. The dataset has been sampled to only 10 classes and 10000 observations per class. Please build a baseline classification model then run a few experiments with different optimizers and learning rates. \n",
        "\n",
        "*Don't forgot to switch to GPU on Colab!*"
      ]
    },
    {
      "cell_type": "markdown",
      "metadata": {
        "id": "ptJ2b3wk62Ud"
      },
      "source": [
        "### Write a function to load your data\n",
        "\n",
        "Wrap yesterday's preprocessing steps into a function that returns four items:\n",
        "* X_train\n",
        "* y_train\n",
        "* X_test\n",
        "* y_test\n",
        "\n",
        "Your function should accept a `path` to the data as a argument."
      ]
    },
    {
      "cell_type": "code",
      "metadata": {
        "id": "nJsIsrvp7O3e"
      },
      "source": [
        "import numpy as np\n",
        "import tensorflow as tf\n",
        "from sklearn.utils import shuffle\n",
        "from sklearn.model_selection import train_test_split\n",
        "\n",
        "def load_quickdraw10(path):\n",
        "  data = np.load(path)\n",
        "  X = data['arr_0']\n",
        "  y = data['arr_1']\n",
        "  X, y = shuffle(X, y)\n",
        "  X_train, X_test, y_train, y_test = train_test_split(X, y, test_size=0.2, random_state=42)\n",
        "  X_train = X_train.astype('float32') / 255.\n",
        "  X_test = X_test.astype('float32') / 255.\n",
        "  \n",
        "  return X_train, y_train, X_test, y_test"
      ],
      "execution_count": 1,
      "outputs": []
    },
    {
      "cell_type": "code",
      "metadata": {
        "id": "l18wJTvIZutP",
        "outputId": "02896041-43ab-426b-9049-09cab752ca3e",
        "colab": {
          "base_uri": "https://localhost:8080/"
        }
      },
      "source": [
        "path = 'quickdraw10.npz'\n",
        "load_quickdraw10(path)"
      ],
      "execution_count": 2,
      "outputs": [
        {
          "output_type": "execute_result",
          "data": {
            "text/plain": [
              "(array([[0., 0., 0., ..., 0., 0., 0.],\n",
              "        [0., 0., 0., ..., 0., 0., 0.],\n",
              "        [0., 0., 0., ..., 0., 0., 0.],\n",
              "        ...,\n",
              "        [0., 0., 0., ..., 0., 0., 0.],\n",
              "        [0., 0., 0., ..., 0., 0., 0.],\n",
              "        [0., 0., 0., ..., 0., 0., 0.]], dtype=float32),\n",
              " array([0, 6, 5, ..., 4, 7, 1]),\n",
              " array([[0., 0., 0., ..., 0., 0., 0.],\n",
              "        [0., 0., 0., ..., 0., 0., 0.],\n",
              "        [0., 0., 0., ..., 0., 0., 0.],\n",
              "        ...,\n",
              "        [0., 0., 0., ..., 0., 0., 0.],\n",
              "        [0., 0., 0., ..., 0., 0., 0.],\n",
              "        [0., 0., 0., ..., 0., 0., 0.]], dtype=float32),\n",
              " array([9, 7, 7, ..., 1, 3, 8]))"
            ]
          },
          "metadata": {
            "tags": []
          },
          "execution_count": 2
        }
      ]
    },
    {
      "cell_type": "code",
      "metadata": {
        "id": "9uLkdCCksye4",
        "outputId": "55313ae5-9483-4d6c-f4f1-893f1efdecb6",
        "colab": {
          "base_uri": "https://localhost:8080/"
        }
      },
      "source": [
        "X_train, y_train, X_test, y_test = load_quickdraw10(path)\n",
        "y_train"
      ],
      "execution_count": 3,
      "outputs": [
        {
          "output_type": "execute_result",
          "data": {
            "text/plain": [
              "array([2, 2, 4, ..., 6, 9, 6])"
            ]
          },
          "metadata": {
            "tags": []
          },
          "execution_count": 3
        }
      ]
    },
    {
      "cell_type": "markdown",
      "metadata": {
        "id": "l-6PxI6H5__2"
      },
      "source": [
        "### Write a Model Function\n",
        "Using your model from yesterday, write a function called `create_model` which returns a compiled TensorFlow Keras Sequential Model suitable for classifying the QuickDraw-10 dataset. Include parameters for the following: \n",
        "* Learning Rate\n",
        "* Optimizer"
      ]
    },
    {
      "cell_type": "code",
      "metadata": {
        "id": "nEREYT-3wI1f"
      },
      "source": [
        "import tensorflow as tf\n",
        "from tensorflow.keras.models import Sequential\n",
        "from tensorflow.keras.layers import Dense\n",
        "from tensorflow.keras.optimizers import SGD\n",
        "from tensorflow.keras.layers import Flatten\n",
        "def create_model(learning_rate=0.01, opt='SGD'):\n",
        "    \n",
        "    model = Sequential([\n",
        "                        Dense(32, activation='relu', input_dim=784),\n",
        "                        Dense(32, activation='relu'),\n",
        "                        Dense(10, activation='softmax')\n",
        "                        ])\n",
        "    model.compile(optimizer=opt,\n",
        "                loss='sparse_categorical_crossentropy',\n",
        "                metrics=['accuracy'])\n",
        "\n",
        "    return model"
      ],
      "execution_count": 4,
      "outputs": []
    },
    {
      "cell_type": "code",
      "metadata": {
        "id": "oybgqSJUgdEG",
        "outputId": "c4fb5e8c-3bf1-40a5-9e48-6742343b19a9",
        "colab": {
          "base_uri": "https://localhost:8080/"
        }
      },
      "source": [
        "model = create_model()\n",
        "model.summary()"
      ],
      "execution_count": 5,
      "outputs": [
        {
          "output_type": "stream",
          "text": [
            "Model: \"sequential\"\n",
            "_________________________________________________________________\n",
            "Layer (type)                 Output Shape              Param #   \n",
            "=================================================================\n",
            "dense (Dense)                (None, 32)                25120     \n",
            "_________________________________________________________________\n",
            "dense_1 (Dense)              (None, 32)                1056      \n",
            "_________________________________________________________________\n",
            "dense_2 (Dense)              (None, 10)                330       \n",
            "=================================================================\n",
            "Total params: 26,506\n",
            "Trainable params: 26,506\n",
            "Non-trainable params: 0\n",
            "_________________________________________________________________\n"
          ],
          "name": "stdout"
        }
      ]
    },
    {
      "cell_type": "markdown",
      "metadata": {
        "id": "f0pCkh8C7eGL"
      },
      "source": [
        "### Experiment with Batch Size\n",
        "* Run 5 experiments with various batch sizes of your choice. \n",
        "* Visualize the results\n",
        "* Write up an analysis of the experiments and select the \"best\" performing model among your experiments. Make sure to compare against your model's performance yesterday. "
      ]
    },
    {
      "cell_type": "code",
      "metadata": {
        "id": "GnVTj2zbtrX1",
        "outputId": "68c2975f-5d7a-4c3f-e8fe-bb3fefe7167a",
        "colab": {
          "base_uri": "https://localhost:8080/"
        }
      },
      "source": [
        "bt4 = model.fit(X_train, y_train,\n",
        "    epochs=25,\n",
        "    batch_size=4,\n",
        "    validation_data=(X_test, y_test)\n",
        ")"
      ],
      "execution_count": 6,
      "outputs": [
        {
          "output_type": "stream",
          "text": [
            "Epoch 1/25\n",
            "20000/20000 [==============================] - 23s 1ms/step - loss: 0.7919 - accuracy: 0.7578 - val_loss: 0.6429 - val_accuracy: 0.8098\n",
            "Epoch 2/25\n",
            "20000/20000 [==============================] - 22s 1ms/step - loss: 0.5935 - accuracy: 0.8213 - val_loss: 0.5773 - val_accuracy: 0.8264\n",
            "Epoch 3/25\n",
            "20000/20000 [==============================] - 22s 1ms/step - loss: 0.5404 - accuracy: 0.8366 - val_loss: 0.5587 - val_accuracy: 0.8336\n",
            "Epoch 4/25\n",
            "20000/20000 [==============================] - 22s 1ms/step - loss: 0.5119 - accuracy: 0.8445 - val_loss: 0.5533 - val_accuracy: 0.8372\n",
            "Epoch 5/25\n",
            "20000/20000 [==============================] - 22s 1ms/step - loss: 0.4919 - accuracy: 0.8523 - val_loss: 0.5430 - val_accuracy: 0.8396\n",
            "Epoch 6/25\n",
            "20000/20000 [==============================] - 22s 1ms/step - loss: 0.4760 - accuracy: 0.8554 - val_loss: 0.5286 - val_accuracy: 0.8416\n",
            "Epoch 7/25\n",
            "20000/20000 [==============================] - 22s 1ms/step - loss: 0.4634 - accuracy: 0.8594 - val_loss: 0.5234 - val_accuracy: 0.8461\n",
            "Epoch 8/25\n",
            "20000/20000 [==============================] - 22s 1ms/step - loss: 0.4519 - accuracy: 0.8636 - val_loss: 0.5275 - val_accuracy: 0.8432\n",
            "Epoch 9/25\n",
            "20000/20000 [==============================] - 22s 1ms/step - loss: 0.4433 - accuracy: 0.8649 - val_loss: 0.5296 - val_accuracy: 0.8414\n",
            "Epoch 10/25\n",
            "20000/20000 [==============================] - 22s 1ms/step - loss: 0.4350 - accuracy: 0.8675 - val_loss: 0.5205 - val_accuracy: 0.8464\n",
            "Epoch 11/25\n",
            "20000/20000 [==============================] - 28s 1ms/step - loss: 0.4289 - accuracy: 0.8700 - val_loss: 0.5322 - val_accuracy: 0.8440\n",
            "Epoch 12/25\n",
            "20000/20000 [==============================] - 23s 1ms/step - loss: 0.4214 - accuracy: 0.8708 - val_loss: 0.5353 - val_accuracy: 0.8406\n",
            "Epoch 13/25\n",
            "20000/20000 [==============================] - 23s 1ms/step - loss: 0.4161 - accuracy: 0.8730 - val_loss: 0.5326 - val_accuracy: 0.8450\n",
            "Epoch 14/25\n",
            "20000/20000 [==============================] - 23s 1ms/step - loss: 0.4113 - accuracy: 0.8746 - val_loss: 0.5371 - val_accuracy: 0.8411\n",
            "Epoch 15/25\n",
            "20000/20000 [==============================] - 22s 1ms/step - loss: 0.4069 - accuracy: 0.8762 - val_loss: 0.5226 - val_accuracy: 0.8475\n",
            "Epoch 16/25\n",
            "20000/20000 [==============================] - 22s 1ms/step - loss: 0.4027 - accuracy: 0.8768 - val_loss: 0.5404 - val_accuracy: 0.8400\n",
            "Epoch 17/25\n",
            "20000/20000 [==============================] - 22s 1ms/step - loss: 0.3971 - accuracy: 0.8780 - val_loss: 0.5344 - val_accuracy: 0.8457\n",
            "Epoch 18/25\n",
            "20000/20000 [==============================] - 22s 1ms/step - loss: 0.3942 - accuracy: 0.8792 - val_loss: 0.5191 - val_accuracy: 0.8486\n",
            "Epoch 19/25\n",
            "20000/20000 [==============================] - 22s 1ms/step - loss: 0.3894 - accuracy: 0.8812 - val_loss: 0.5254 - val_accuracy: 0.8450\n",
            "Epoch 20/25\n",
            "20000/20000 [==============================] - 22s 1ms/step - loss: 0.3859 - accuracy: 0.8816 - val_loss: 0.5380 - val_accuracy: 0.8464\n",
            "Epoch 21/25\n",
            "20000/20000 [==============================] - 22s 1ms/step - loss: 0.3829 - accuracy: 0.8829 - val_loss: 0.5352 - val_accuracy: 0.8430\n",
            "Epoch 22/25\n",
            "20000/20000 [==============================] - 22s 1ms/step - loss: 0.3794 - accuracy: 0.8846 - val_loss: 0.5296 - val_accuracy: 0.8467\n",
            "Epoch 23/25\n",
            "20000/20000 [==============================] - 21s 1ms/step - loss: 0.3769 - accuracy: 0.8849 - val_loss: 0.5436 - val_accuracy: 0.8470\n",
            "Epoch 24/25\n",
            "20000/20000 [==============================] - 21s 1ms/step - loss: 0.3757 - accuracy: 0.8853 - val_loss: 0.5330 - val_accuracy: 0.8478\n",
            "Epoch 25/25\n",
            "20000/20000 [==============================] - 21s 1ms/step - loss: 0.3710 - accuracy: 0.8871 - val_loss: 0.5388 - val_accuracy: 0.8470\n"
          ],
          "name": "stdout"
        }
      ]
    },
    {
      "cell_type": "code",
      "metadata": {
        "id": "v6hSnupYtq_7",
        "outputId": "f26f2d68-757d-4a2f-c8be-c49b9d84c7c1",
        "colab": {
          "base_uri": "https://localhost:8080/"
        }
      },
      "source": [
        "bt16 = model.fit(X_train, y_train,\n",
        "    epochs=25,\n",
        "    batch_size=16,\n",
        "    validation_data=(X_test, y_test)\n",
        ")"
      ],
      "execution_count": 7,
      "outputs": [
        {
          "output_type": "stream",
          "text": [
            "Epoch 1/25\n",
            "5000/5000 [==============================] - 8s 2ms/step - loss: 0.3297 - accuracy: 0.9014 - val_loss: 0.5323 - val_accuracy: 0.8480\n",
            "Epoch 2/25\n",
            "5000/5000 [==============================] - 8s 2ms/step - loss: 0.3235 - accuracy: 0.9032 - val_loss: 0.5370 - val_accuracy: 0.8467\n",
            "Epoch 3/25\n",
            "5000/5000 [==============================] - 8s 2ms/step - loss: 0.3216 - accuracy: 0.9033 - val_loss: 0.5386 - val_accuracy: 0.8481\n",
            "Epoch 4/25\n",
            "5000/5000 [==============================] - 8s 2ms/step - loss: 0.3191 - accuracy: 0.9043 - val_loss: 0.5424 - val_accuracy: 0.8474\n",
            "Epoch 5/25\n",
            "5000/5000 [==============================] - 8s 2ms/step - loss: 0.3183 - accuracy: 0.9049 - val_loss: 0.5491 - val_accuracy: 0.8481\n",
            "Epoch 6/25\n",
            "5000/5000 [==============================] - 9s 2ms/step - loss: 0.3170 - accuracy: 0.9052 - val_loss: 0.5471 - val_accuracy: 0.8469\n",
            "Epoch 7/25\n",
            "5000/5000 [==============================] - 9s 2ms/step - loss: 0.3160 - accuracy: 0.9049 - val_loss: 0.5494 - val_accuracy: 0.8475\n",
            "Epoch 8/25\n",
            "5000/5000 [==============================] - 8s 2ms/step - loss: 0.3149 - accuracy: 0.9053 - val_loss: 0.5525 - val_accuracy: 0.8468\n",
            "Epoch 9/25\n",
            "5000/5000 [==============================] - 8s 2ms/step - loss: 0.3140 - accuracy: 0.9065 - val_loss: 0.5588 - val_accuracy: 0.8473\n",
            "Epoch 10/25\n",
            "5000/5000 [==============================] - 8s 2ms/step - loss: 0.3129 - accuracy: 0.9063 - val_loss: 0.5570 - val_accuracy: 0.8461\n",
            "Epoch 11/25\n",
            "5000/5000 [==============================] - 8s 2ms/step - loss: 0.3119 - accuracy: 0.9067 - val_loss: 0.5594 - val_accuracy: 0.8445\n",
            "Epoch 12/25\n",
            "5000/5000 [==============================] - 8s 2ms/step - loss: 0.3108 - accuracy: 0.9064 - val_loss: 0.5624 - val_accuracy: 0.8457\n",
            "Epoch 13/25\n",
            "5000/5000 [==============================] - 8s 2ms/step - loss: 0.3102 - accuracy: 0.9069 - val_loss: 0.5673 - val_accuracy: 0.8465\n",
            "Epoch 14/25\n",
            "5000/5000 [==============================] - 8s 2ms/step - loss: 0.3091 - accuracy: 0.9072 - val_loss: 0.5666 - val_accuracy: 0.8432\n",
            "Epoch 15/25\n",
            "5000/5000 [==============================] - 8s 2ms/step - loss: 0.3087 - accuracy: 0.9080 - val_loss: 0.5757 - val_accuracy: 0.8457\n",
            "Epoch 16/25\n",
            "5000/5000 [==============================] - 8s 2ms/step - loss: 0.3076 - accuracy: 0.9077 - val_loss: 0.5719 - val_accuracy: 0.8462\n",
            "Epoch 17/25\n",
            "5000/5000 [==============================] - 8s 2ms/step - loss: 0.3064 - accuracy: 0.9082 - val_loss: 0.5743 - val_accuracy: 0.8450\n",
            "Epoch 18/25\n",
            "5000/5000 [==============================] - 8s 2ms/step - loss: 0.3060 - accuracy: 0.9080 - val_loss: 0.5691 - val_accuracy: 0.8461\n",
            "Epoch 19/25\n",
            "5000/5000 [==============================] - 8s 2ms/step - loss: 0.3048 - accuracy: 0.9086 - val_loss: 0.5762 - val_accuracy: 0.8430\n",
            "Epoch 20/25\n",
            "5000/5000 [==============================] - 8s 2ms/step - loss: 0.3044 - accuracy: 0.9084 - val_loss: 0.5761 - val_accuracy: 0.8425\n",
            "Epoch 21/25\n",
            "5000/5000 [==============================] - 8s 2ms/step - loss: 0.3035 - accuracy: 0.9091 - val_loss: 0.5826 - val_accuracy: 0.8444\n",
            "Epoch 22/25\n",
            "5000/5000 [==============================] - 8s 2ms/step - loss: 0.3031 - accuracy: 0.9097 - val_loss: 0.5851 - val_accuracy: 0.8425\n",
            "Epoch 23/25\n",
            "5000/5000 [==============================] - 8s 2ms/step - loss: 0.3024 - accuracy: 0.9095 - val_loss: 0.5852 - val_accuracy: 0.8406\n",
            "Epoch 24/25\n",
            "5000/5000 [==============================] - 8s 2ms/step - loss: 0.3014 - accuracy: 0.9099 - val_loss: 0.5892 - val_accuracy: 0.8426\n",
            "Epoch 25/25\n",
            "5000/5000 [==============================] - 8s 2ms/step - loss: 0.3005 - accuracy: 0.9103 - val_loss: 0.5835 - val_accuracy: 0.8429\n"
          ],
          "name": "stdout"
        }
      ]
    },
    {
      "cell_type": "code",
      "metadata": {
        "id": "USXjs7Hk71Hy",
        "outputId": "1113060c-e260-49ff-93a9-36ac824eab5c",
        "colab": {
          "base_uri": "https://localhost:8080/"
        }
      },
      "source": [
        "model = create_model()\n",
        "\n",
        "bt32 = model.fit(X_train, y_train,\n",
        "    epochs=25,\n",
        "    batch_size=32,\n",
        "    validation_data=(X_test, y_test)\n",
        ")"
      ],
      "execution_count": 8,
      "outputs": [
        {
          "output_type": "stream",
          "text": [
            "Epoch 1/25\n",
            "2500/2500 [==============================] - 3s 1ms/step - loss: 1.1385 - accuracy: 0.6522 - val_loss: 0.8697 - val_accuracy: 0.7456\n",
            "Epoch 2/25\n",
            "2500/2500 [==============================] - 3s 1ms/step - loss: 0.8106 - accuracy: 0.7622 - val_loss: 0.7688 - val_accuracy: 0.7757\n",
            "Epoch 3/25\n",
            "2500/2500 [==============================] - 3s 1ms/step - loss: 0.7353 - accuracy: 0.7847 - val_loss: 0.7093 - val_accuracy: 0.7946\n",
            "Epoch 4/25\n",
            "2500/2500 [==============================] - 3s 1ms/step - loss: 0.6857 - accuracy: 0.8001 - val_loss: 0.6758 - val_accuracy: 0.8028\n",
            "Epoch 5/25\n",
            "2500/2500 [==============================] - 3s 1ms/step - loss: 0.6504 - accuracy: 0.8099 - val_loss: 0.6610 - val_accuracy: 0.8088\n",
            "Epoch 6/25\n",
            "2500/2500 [==============================] - 3s 1ms/step - loss: 0.6230 - accuracy: 0.8170 - val_loss: 0.6357 - val_accuracy: 0.8143\n",
            "Epoch 7/25\n",
            "2500/2500 [==============================] - 3s 1ms/step - loss: 0.5997 - accuracy: 0.8243 - val_loss: 0.6193 - val_accuracy: 0.8198\n",
            "Epoch 8/25\n",
            "2500/2500 [==============================] - 3s 1ms/step - loss: 0.5805 - accuracy: 0.8291 - val_loss: 0.5991 - val_accuracy: 0.8261\n",
            "Epoch 9/25\n",
            "2500/2500 [==============================] - 3s 1ms/step - loss: 0.5638 - accuracy: 0.8325 - val_loss: 0.5870 - val_accuracy: 0.8311\n",
            "Epoch 10/25\n",
            "2500/2500 [==============================] - 3s 1ms/step - loss: 0.5493 - accuracy: 0.8374 - val_loss: 0.5820 - val_accuracy: 0.8317\n",
            "Epoch 11/25\n",
            "2500/2500 [==============================] - 3s 1ms/step - loss: 0.5366 - accuracy: 0.8413 - val_loss: 0.5743 - val_accuracy: 0.8322\n",
            "Epoch 12/25\n",
            "2500/2500 [==============================] - 3s 1ms/step - loss: 0.5254 - accuracy: 0.8432 - val_loss: 0.5621 - val_accuracy: 0.8367\n",
            "Epoch 13/25\n",
            "2500/2500 [==============================] - 3s 1ms/step - loss: 0.5158 - accuracy: 0.8474 - val_loss: 0.5600 - val_accuracy: 0.8362\n",
            "Epoch 14/25\n",
            "2500/2500 [==============================] - 3s 1ms/step - loss: 0.5071 - accuracy: 0.8489 - val_loss: 0.5539 - val_accuracy: 0.8386\n",
            "Epoch 15/25\n",
            "2500/2500 [==============================] - 3s 1ms/step - loss: 0.4992 - accuracy: 0.8514 - val_loss: 0.5495 - val_accuracy: 0.8379\n",
            "Epoch 16/25\n",
            "2500/2500 [==============================] - 3s 1ms/step - loss: 0.4914 - accuracy: 0.8544 - val_loss: 0.5425 - val_accuracy: 0.8403\n",
            "Epoch 17/25\n",
            "2500/2500 [==============================] - 3s 1ms/step - loss: 0.4847 - accuracy: 0.8557 - val_loss: 0.5441 - val_accuracy: 0.8407\n",
            "Epoch 18/25\n",
            "2500/2500 [==============================] - 3s 1ms/step - loss: 0.4784 - accuracy: 0.8574 - val_loss: 0.5438 - val_accuracy: 0.8397\n",
            "Epoch 19/25\n",
            "2500/2500 [==============================] - 3s 1ms/step - loss: 0.4727 - accuracy: 0.8591 - val_loss: 0.5404 - val_accuracy: 0.8415\n",
            "Epoch 20/25\n",
            "2500/2500 [==============================] - 3s 1ms/step - loss: 0.4670 - accuracy: 0.8608 - val_loss: 0.5370 - val_accuracy: 0.8423\n",
            "Epoch 21/25\n",
            "2500/2500 [==============================] - 3s 1ms/step - loss: 0.4619 - accuracy: 0.8634 - val_loss: 0.5306 - val_accuracy: 0.8451\n",
            "Epoch 22/25\n",
            "2500/2500 [==============================] - 3s 1ms/step - loss: 0.4565 - accuracy: 0.8640 - val_loss: 0.5335 - val_accuracy: 0.8446\n",
            "Epoch 23/25\n",
            "2500/2500 [==============================] - 3s 1ms/step - loss: 0.4523 - accuracy: 0.8651 - val_loss: 0.5309 - val_accuracy: 0.8446\n",
            "Epoch 24/25\n",
            "2500/2500 [==============================] - 3s 1ms/step - loss: 0.4481 - accuracy: 0.8666 - val_loss: 0.5305 - val_accuracy: 0.8450\n",
            "Epoch 25/25\n",
            "2500/2500 [==============================] - 3s 1ms/step - loss: 0.4442 - accuracy: 0.8680 - val_loss: 0.5231 - val_accuracy: 0.8470\n"
          ],
          "name": "stdout"
        }
      ]
    },
    {
      "cell_type": "code",
      "metadata": {
        "id": "MF-M1eFFtrhD",
        "outputId": "50f9a2a5-dd26-4da0-fccc-52883720fc57",
        "colab": {
          "base_uri": "https://localhost:8080/"
        }
      },
      "source": [
        "bt64 = model.fit(X_train, y_train,\n",
        "    epochs=25,\n",
        "    batch_size=64,\n",
        "    validation_data=(X_test, y_test)\n",
        ")"
      ],
      "execution_count": 9,
      "outputs": [
        {
          "output_type": "stream",
          "text": [
            "Epoch 1/25\n",
            "1250/1250 [==============================] - 3s 2ms/step - loss: 0.4309 - accuracy: 0.8720 - val_loss: 0.5224 - val_accuracy: 0.8479\n",
            "Epoch 2/25\n",
            "1250/1250 [==============================] - 2s 2ms/step - loss: 0.4280 - accuracy: 0.8731 - val_loss: 0.5221 - val_accuracy: 0.8479\n",
            "Epoch 3/25\n",
            "1250/1250 [==============================] - 2s 2ms/step - loss: 0.4256 - accuracy: 0.8736 - val_loss: 0.5235 - val_accuracy: 0.8471\n",
            "Epoch 4/25\n",
            "1250/1250 [==============================] - 2s 2ms/step - loss: 0.4241 - accuracy: 0.8737 - val_loss: 0.5261 - val_accuracy: 0.8462\n",
            "Epoch 5/25\n",
            "1250/1250 [==============================] - 2s 2ms/step - loss: 0.4223 - accuracy: 0.8748 - val_loss: 0.5216 - val_accuracy: 0.8462\n",
            "Epoch 6/25\n",
            "1250/1250 [==============================] - 2s 2ms/step - loss: 0.4204 - accuracy: 0.8750 - val_loss: 0.5232 - val_accuracy: 0.8459\n",
            "Epoch 7/25\n",
            "1250/1250 [==============================] - 2s 2ms/step - loss: 0.4183 - accuracy: 0.8756 - val_loss: 0.5250 - val_accuracy: 0.8464\n",
            "Epoch 8/25\n",
            "1250/1250 [==============================] - 2s 2ms/step - loss: 0.4167 - accuracy: 0.8765 - val_loss: 0.5261 - val_accuracy: 0.8461\n",
            "Epoch 9/25\n",
            "1250/1250 [==============================] - 2s 2ms/step - loss: 0.4150 - accuracy: 0.8768 - val_loss: 0.5230 - val_accuracy: 0.8477\n",
            "Epoch 10/25\n",
            "1250/1250 [==============================] - 2s 2ms/step - loss: 0.4138 - accuracy: 0.8769 - val_loss: 0.5218 - val_accuracy: 0.8475\n",
            "Epoch 11/25\n",
            "1250/1250 [==============================] - 2s 2ms/step - loss: 0.4121 - accuracy: 0.8780 - val_loss: 0.5210 - val_accuracy: 0.8474\n",
            "Epoch 12/25\n",
            "1250/1250 [==============================] - 2s 2ms/step - loss: 0.4104 - accuracy: 0.8781 - val_loss: 0.5197 - val_accuracy: 0.8487\n",
            "Epoch 13/25\n",
            "1250/1250 [==============================] - 2s 2ms/step - loss: 0.4090 - accuracy: 0.8787 - val_loss: 0.5223 - val_accuracy: 0.8486\n",
            "Epoch 14/25\n",
            "1250/1250 [==============================] - 2s 2ms/step - loss: 0.4076 - accuracy: 0.8789 - val_loss: 0.5224 - val_accuracy: 0.8475\n",
            "Epoch 15/25\n",
            "1250/1250 [==============================] - 2s 2ms/step - loss: 0.4055 - accuracy: 0.8795 - val_loss: 0.5233 - val_accuracy: 0.8475\n",
            "Epoch 16/25\n",
            "1250/1250 [==============================] - 2s 2ms/step - loss: 0.4050 - accuracy: 0.8798 - val_loss: 0.5207 - val_accuracy: 0.8482\n",
            "Epoch 17/25\n",
            "1250/1250 [==============================] - 2s 2ms/step - loss: 0.4034 - accuracy: 0.8800 - val_loss: 0.5237 - val_accuracy: 0.8472\n",
            "Epoch 18/25\n",
            "1250/1250 [==============================] - 2s 2ms/step - loss: 0.4015 - accuracy: 0.8805 - val_loss: 0.5218 - val_accuracy: 0.8479\n",
            "Epoch 19/25\n",
            "1250/1250 [==============================] - 2s 2ms/step - loss: 0.4005 - accuracy: 0.8805 - val_loss: 0.5227 - val_accuracy: 0.8488\n",
            "Epoch 20/25\n",
            "1250/1250 [==============================] - 3s 2ms/step - loss: 0.3990 - accuracy: 0.8811 - val_loss: 0.5225 - val_accuracy: 0.8476\n",
            "Epoch 21/25\n",
            "1250/1250 [==============================] - 3s 2ms/step - loss: 0.3978 - accuracy: 0.8814 - val_loss: 0.5262 - val_accuracy: 0.8475\n",
            "Epoch 22/25\n",
            "1250/1250 [==============================] - 3s 2ms/step - loss: 0.3965 - accuracy: 0.8823 - val_loss: 0.5297 - val_accuracy: 0.8465\n",
            "Epoch 23/25\n",
            "1250/1250 [==============================] - 3s 2ms/step - loss: 0.3952 - accuracy: 0.8822 - val_loss: 0.5249 - val_accuracy: 0.8488\n",
            "Epoch 24/25\n",
            "1250/1250 [==============================] - 2s 2ms/step - loss: 0.3940 - accuracy: 0.8827 - val_loss: 0.5224 - val_accuracy: 0.8483\n",
            "Epoch 25/25\n",
            "1250/1250 [==============================] - 2s 2ms/step - loss: 0.3927 - accuracy: 0.8831 - val_loss: 0.5267 - val_accuracy: 0.8464\n"
          ],
          "name": "stdout"
        }
      ]
    },
    {
      "cell_type": "code",
      "metadata": {
        "id": "PyTe5DwhtrpV",
        "outputId": "17ffacd6-43a1-4651-8966-007e4946cba0",
        "colab": {
          "base_uri": "https://localhost:8080/"
        }
      },
      "source": [
        "bt128 = model.fit(X_train, y_train,\n",
        "    epochs=25,\n",
        "    batch_size=128,\n",
        "    validation_data=(X_test, y_test)\n",
        ")"
      ],
      "execution_count": 10,
      "outputs": [
        {
          "output_type": "stream",
          "text": [
            "Epoch 1/25\n",
            "625/625 [==============================] - 2s 3ms/step - loss: 0.3849 - accuracy: 0.8860 - val_loss: 0.5224 - val_accuracy: 0.8485\n",
            "Epoch 2/25\n",
            "625/625 [==============================] - 2s 3ms/step - loss: 0.3842 - accuracy: 0.8860 - val_loss: 0.5220 - val_accuracy: 0.8482\n",
            "Epoch 3/25\n",
            "625/625 [==============================] - 2s 3ms/step - loss: 0.3838 - accuracy: 0.8857 - val_loss: 0.5230 - val_accuracy: 0.8493\n",
            "Epoch 4/25\n",
            "625/625 [==============================] - 2s 3ms/step - loss: 0.3832 - accuracy: 0.8863 - val_loss: 0.5227 - val_accuracy: 0.8493\n",
            "Epoch 5/25\n",
            "625/625 [==============================] - 2s 3ms/step - loss: 0.3822 - accuracy: 0.8868 - val_loss: 0.5235 - val_accuracy: 0.8487\n",
            "Epoch 6/25\n",
            "625/625 [==============================] - 2s 3ms/step - loss: 0.3818 - accuracy: 0.8862 - val_loss: 0.5234 - val_accuracy: 0.8482\n",
            "Epoch 7/25\n",
            "625/625 [==============================] - 2s 3ms/step - loss: 0.3808 - accuracy: 0.8870 - val_loss: 0.5244 - val_accuracy: 0.8490\n",
            "Epoch 8/25\n",
            "625/625 [==============================] - 2s 3ms/step - loss: 0.3804 - accuracy: 0.8870 - val_loss: 0.5228 - val_accuracy: 0.8486\n",
            "Epoch 9/25\n",
            "625/625 [==============================] - 2s 3ms/step - loss: 0.3800 - accuracy: 0.8874 - val_loss: 0.5242 - val_accuracy: 0.8485\n",
            "Epoch 10/25\n",
            "625/625 [==============================] - 2s 3ms/step - loss: 0.3792 - accuracy: 0.8873 - val_loss: 0.5228 - val_accuracy: 0.8496\n",
            "Epoch 11/25\n",
            "625/625 [==============================] - 2s 3ms/step - loss: 0.3784 - accuracy: 0.8880 - val_loss: 0.5251 - val_accuracy: 0.8480\n",
            "Epoch 12/25\n",
            "625/625 [==============================] - 2s 3ms/step - loss: 0.3784 - accuracy: 0.8878 - val_loss: 0.5233 - val_accuracy: 0.8498\n",
            "Epoch 13/25\n",
            "625/625 [==============================] - 2s 3ms/step - loss: 0.3775 - accuracy: 0.8877 - val_loss: 0.5244 - val_accuracy: 0.8476\n",
            "Epoch 14/25\n",
            "625/625 [==============================] - 2s 3ms/step - loss: 0.3770 - accuracy: 0.8879 - val_loss: 0.5265 - val_accuracy: 0.8483\n",
            "Epoch 15/25\n",
            "625/625 [==============================] - 2s 3ms/step - loss: 0.3764 - accuracy: 0.8884 - val_loss: 0.5257 - val_accuracy: 0.8473\n",
            "Epoch 16/25\n",
            "625/625 [==============================] - 2s 3ms/step - loss: 0.3759 - accuracy: 0.8882 - val_loss: 0.5249 - val_accuracy: 0.8476\n",
            "Epoch 17/25\n",
            "625/625 [==============================] - 2s 3ms/step - loss: 0.3749 - accuracy: 0.8890 - val_loss: 0.5278 - val_accuracy: 0.8468\n",
            "Epoch 18/25\n",
            "625/625 [==============================] - 2s 3ms/step - loss: 0.3747 - accuracy: 0.8889 - val_loss: 0.5302 - val_accuracy: 0.8463\n",
            "Epoch 19/25\n",
            "625/625 [==============================] - 2s 3ms/step - loss: 0.3742 - accuracy: 0.8885 - val_loss: 0.5268 - val_accuracy: 0.8482\n",
            "Epoch 20/25\n",
            "625/625 [==============================] - 2s 3ms/step - loss: 0.3734 - accuracy: 0.8891 - val_loss: 0.5289 - val_accuracy: 0.8480\n",
            "Epoch 21/25\n",
            "625/625 [==============================] - 2s 3ms/step - loss: 0.3732 - accuracy: 0.8892 - val_loss: 0.5317 - val_accuracy: 0.8464\n",
            "Epoch 22/25\n",
            "625/625 [==============================] - 2s 3ms/step - loss: 0.3725 - accuracy: 0.8897 - val_loss: 0.5266 - val_accuracy: 0.8482\n",
            "Epoch 23/25\n",
            "625/625 [==============================] - 2s 3ms/step - loss: 0.3721 - accuracy: 0.8895 - val_loss: 0.5285 - val_accuracy: 0.8485\n",
            "Epoch 24/25\n",
            "625/625 [==============================] - 2s 3ms/step - loss: 0.3712 - accuracy: 0.8899 - val_loss: 0.5324 - val_accuracy: 0.8469\n",
            "Epoch 25/25\n",
            "625/625 [==============================] - 2s 3ms/step - loss: 0.3710 - accuracy: 0.8896 - val_loss: 0.5287 - val_accuracy: 0.8483\n"
          ],
          "name": "stdout"
        }
      ]
    },
    {
      "cell_type": "code",
      "metadata": {
        "id": "pen-TEcW9yhk",
        "outputId": "64ba757c-d3f7-4b5c-f694-c24cff3a17dc",
        "colab": {
          "base_uri": "https://localhost:8080/",
          "height": 195
        }
      },
      "source": [
        "import seaborn as sns\n",
        "import pandas as pd\n",
        "\n",
        "batch_sizes = []\n",
        "\n",
        "for exp, result in zip([bt4, bt16, bt32, bt64, bt128], [\"4_\", \"16_\", \"32_\", \"64_\", \"128_\"]):\n",
        "    df_bt = pd.DataFrame.from_dict(exp.history)\n",
        "    df_bt['epoch'] = df_bt.index.values\n",
        "    df_bt['Batch Size'] = result\n",
        "    batch_sizes.append(df_bt)\n",
        "\n",
        "df_bt = pd.concat(batch_sizes)\n",
        "df_bt['Batch Size'] = df_bt['Batch Size'].astype('str')\n",
        "df_bt.head()"
      ],
      "execution_count": 13,
      "outputs": [
        {
          "output_type": "execute_result",
          "data": {
            "text/html": [
              "<div>\n",
              "<style scoped>\n",
              "    .dataframe tbody tr th:only-of-type {\n",
              "        vertical-align: middle;\n",
              "    }\n",
              "\n",
              "    .dataframe tbody tr th {\n",
              "        vertical-align: top;\n",
              "    }\n",
              "\n",
              "    .dataframe thead th {\n",
              "        text-align: right;\n",
              "    }\n",
              "</style>\n",
              "<table border=\"1\" class=\"dataframe\">\n",
              "  <thead>\n",
              "    <tr style=\"text-align: right;\">\n",
              "      <th></th>\n",
              "      <th>loss</th>\n",
              "      <th>accuracy</th>\n",
              "      <th>val_loss</th>\n",
              "      <th>val_accuracy</th>\n",
              "      <th>epoch</th>\n",
              "      <th>Batch Size</th>\n",
              "    </tr>\n",
              "  </thead>\n",
              "  <tbody>\n",
              "    <tr>\n",
              "      <th>0</th>\n",
              "      <td>0.791890</td>\n",
              "      <td>0.757850</td>\n",
              "      <td>0.642924</td>\n",
              "      <td>0.80975</td>\n",
              "      <td>0</td>\n",
              "      <td>4_</td>\n",
              "    </tr>\n",
              "    <tr>\n",
              "      <th>1</th>\n",
              "      <td>0.593503</td>\n",
              "      <td>0.821262</td>\n",
              "      <td>0.577268</td>\n",
              "      <td>0.82640</td>\n",
              "      <td>1</td>\n",
              "      <td>4_</td>\n",
              "    </tr>\n",
              "    <tr>\n",
              "      <th>2</th>\n",
              "      <td>0.540440</td>\n",
              "      <td>0.836575</td>\n",
              "      <td>0.558749</td>\n",
              "      <td>0.83365</td>\n",
              "      <td>2</td>\n",
              "      <td>4_</td>\n",
              "    </tr>\n",
              "    <tr>\n",
              "      <th>3</th>\n",
              "      <td>0.511925</td>\n",
              "      <td>0.844463</td>\n",
              "      <td>0.553292</td>\n",
              "      <td>0.83725</td>\n",
              "      <td>3</td>\n",
              "      <td>4_</td>\n",
              "    </tr>\n",
              "    <tr>\n",
              "      <th>4</th>\n",
              "      <td>0.491923</td>\n",
              "      <td>0.852325</td>\n",
              "      <td>0.542987</td>\n",
              "      <td>0.83965</td>\n",
              "      <td>4</td>\n",
              "      <td>4_</td>\n",
              "    </tr>\n",
              "  </tbody>\n",
              "</table>\n",
              "</div>"
            ],
            "text/plain": [
              "       loss  accuracy  val_loss  val_accuracy  epoch Batch Size\n",
              "0  0.791890  0.757850  0.642924       0.80975      0         4_\n",
              "1  0.593503  0.821262  0.577268       0.82640      1         4_\n",
              "2  0.540440  0.836575  0.558749       0.83365      2         4_\n",
              "3  0.511925  0.844463  0.553292       0.83725      3         4_\n",
              "4  0.491923  0.852325  0.542987       0.83965      4         4_"
            ]
          },
          "metadata": {
            "tags": []
          },
          "execution_count": 13
        }
      ]
    },
    {
      "cell_type": "code",
      "metadata": {
        "id": "aq4mxlyI9ymz",
        "outputId": "3d430a9c-40a8-4965-f304-e3505a8c5aeb",
        "colab": {
          "base_uri": "https://localhost:8080/",
          "height": 279
        }
      },
      "source": [
        "sns.lineplot(x='epoch', y='val_accuracy', hue='Batch Size', data=df_bt);"
      ],
      "execution_count": 14,
      "outputs": [
        {
          "output_type": "display_data",
          "data": {
            "image/png": "[encoded data removed]",
            "text/plain": [
              "<Figure size 432x288 with 1 Axes>"
            ]
          },
          "metadata": {
            "tags": [],
            "needs_background": "light"
          }
        }
      ]
    },
    {
      "cell_type": "markdown",
      "metadata": {
        "id": "cw0gmGY9OShp"
      },
      "source": [
        "Analysis:\n",
        "* For 25 epochs, a Batch size of 32 is ideal because it is the fastest running model that provides roughly the same results as larger batch sizes"
      ]
    },
    {
      "cell_type": "markdown",
      "metadata": {
        "id": "8b-r70o8p2Dm"
      },
      "source": [
        "### Experiment with Learning Rate\n",
        "* Run 5 experiments with various learning rate magnitudes: 1, .1, .01, .001, .0001.\n",
        "* Use the \"best\" batch size from the previous experiment\n",
        "* Visualize the results\n",
        "* Write up an analysis of the experiments and select the \"best\" performing model among your experiments. Make sure to compare against the previous experiments and your model's performance yesterday. "
      ]
    },
    {
      "cell_type": "code",
      "metadata": {
        "id": "J2CxC9wTvfDO",
        "outputId": "9fe393d0-01f5-43af-a31a-018b62eba83e",
        "colab": {
          "base_uri": "https://localhost:8080/"
        }
      },
      "source": [
        "lrOne = create_model(learning_rate=1).fit(X_train, y_train,\n",
        "    epochs=25,\n",
        "    batch_size=32,\n",
        "    validation_data=(X_test, y_test)\n",
        ")"
      ],
      "execution_count": 15,
      "outputs": [
        {
          "output_type": "stream",
          "text": [
            "Epoch 1/25\n",
            "2500/2500 [==============================] - 3s 1ms/step - loss: 1.1149 - accuracy: 0.6540 - val_loss: 0.8391 - val_accuracy: 0.7541\n",
            "Epoch 2/25\n",
            "2500/2500 [==============================] - 3s 1ms/step - loss: 0.7905 - accuracy: 0.7663 - val_loss: 0.7567 - val_accuracy: 0.7811\n",
            "Epoch 3/25\n",
            "2500/2500 [==============================] - 3s 1ms/step - loss: 0.7226 - accuracy: 0.7872 - val_loss: 0.7048 - val_accuracy: 0.7923\n",
            "Epoch 4/25\n",
            "2500/2500 [==============================] - 3s 1ms/step - loss: 0.6763 - accuracy: 0.8021 - val_loss: 0.6765 - val_accuracy: 0.8049\n",
            "Epoch 5/25\n",
            "2500/2500 [==============================] - 3s 1ms/step - loss: 0.6402 - accuracy: 0.8126 - val_loss: 0.6469 - val_accuracy: 0.8109\n",
            "Epoch 6/25\n",
            "2500/2500 [==============================] - 3s 1ms/step - loss: 0.6105 - accuracy: 0.8213 - val_loss: 0.6239 - val_accuracy: 0.8185\n",
            "Epoch 7/25\n",
            "2500/2500 [==============================] - 3s 1ms/step - loss: 0.5863 - accuracy: 0.8275 - val_loss: 0.6044 - val_accuracy: 0.8223\n",
            "Epoch 8/25\n",
            "2500/2500 [==============================] - 3s 1ms/step - loss: 0.5660 - accuracy: 0.8335 - val_loss: 0.5920 - val_accuracy: 0.8274\n",
            "Epoch 9/25\n",
            "2500/2500 [==============================] - 3s 1ms/step - loss: 0.5485 - accuracy: 0.8384 - val_loss: 0.5825 - val_accuracy: 0.8281\n",
            "Epoch 10/25\n",
            "2500/2500 [==============================] - 3s 1ms/step - loss: 0.5345 - accuracy: 0.8417 - val_loss: 0.5723 - val_accuracy: 0.8332\n",
            "Epoch 11/25\n",
            "2500/2500 [==============================] - 3s 1ms/step - loss: 0.5215 - accuracy: 0.8455 - val_loss: 0.5737 - val_accuracy: 0.8334\n",
            "Epoch 12/25\n",
            "2500/2500 [==============================] - 3s 1ms/step - loss: 0.5103 - accuracy: 0.8486 - val_loss: 0.5581 - val_accuracy: 0.8355\n",
            "Epoch 13/25\n",
            "2500/2500 [==============================] - 3s 1ms/step - loss: 0.5009 - accuracy: 0.8516 - val_loss: 0.5486 - val_accuracy: 0.8398\n",
            "Epoch 14/25\n",
            "2500/2500 [==============================] - 3s 1ms/step - loss: 0.4919 - accuracy: 0.8544 - val_loss: 0.5419 - val_accuracy: 0.8407\n",
            "Epoch 15/25\n",
            "2500/2500 [==============================] - 3s 1ms/step - loss: 0.4826 - accuracy: 0.8575 - val_loss: 0.5494 - val_accuracy: 0.8408\n",
            "Epoch 16/25\n",
            "2500/2500 [==============================] - 3s 1ms/step - loss: 0.4755 - accuracy: 0.8587 - val_loss: 0.5356 - val_accuracy: 0.8415\n",
            "Epoch 17/25\n",
            "2500/2500 [==============================] - 3s 1ms/step - loss: 0.4682 - accuracy: 0.8606 - val_loss: 0.5512 - val_accuracy: 0.8389\n",
            "Epoch 18/25\n",
            "2500/2500 [==============================] - 3s 1ms/step - loss: 0.4623 - accuracy: 0.8624 - val_loss: 0.5336 - val_accuracy: 0.8420\n",
            "Epoch 19/25\n",
            "2500/2500 [==============================] - 3s 1ms/step - loss: 0.4564 - accuracy: 0.8638 - val_loss: 0.5311 - val_accuracy: 0.8444\n",
            "Epoch 20/25\n",
            "2500/2500 [==============================] - 3s 1ms/step - loss: 0.4512 - accuracy: 0.8652 - val_loss: 0.5300 - val_accuracy: 0.8444\n",
            "Epoch 21/25\n",
            "2500/2500 [==============================] - 3s 1ms/step - loss: 0.4460 - accuracy: 0.8668 - val_loss: 0.5271 - val_accuracy: 0.8439\n",
            "Epoch 22/25\n",
            "2500/2500 [==============================] - 3s 1ms/step - loss: 0.4411 - accuracy: 0.8682 - val_loss: 0.5298 - val_accuracy: 0.8439\n",
            "Epoch 23/25\n",
            "2500/2500 [==============================] - 3s 1ms/step - loss: 0.4375 - accuracy: 0.8700 - val_loss: 0.5235 - val_accuracy: 0.8444\n",
            "Epoch 24/25\n",
            "2500/2500 [==============================] - 3s 1ms/step - loss: 0.4331 - accuracy: 0.8695 - val_loss: 0.5248 - val_accuracy: 0.8455\n",
            "Epoch 25/25\n",
            "2500/2500 [==============================] - 3s 1ms/step - loss: 0.4289 - accuracy: 0.8714 - val_loss: 0.5254 - val_accuracy: 0.8468\n"
          ],
          "name": "stdout"
        }
      ]
    },
    {
      "cell_type": "code",
      "metadata": {
        "id": "B0Z8zAnTvfK1",
        "outputId": "9f7b1672-ae4f-468a-aba6-95d9ffa8a4e0",
        "colab": {
          "base_uri": "https://localhost:8080/"
        }
      },
      "source": [
        "lrTenth = create_model(learning_rate=.1).fit(X_train, y_train,\n",
        "    epochs=25,\n",
        "    batch_size=32,\n",
        "    validation_data=(X_test, y_test)\n",
        ")"
      ],
      "execution_count": 16,
      "outputs": [
        {
          "output_type": "stream",
          "text": [
            "Epoch 1/25\n",
            "2500/2500 [==============================] - 3s 1ms/step - loss: 1.1563 - accuracy: 0.6358 - val_loss: 0.8559 - val_accuracy: 0.7497\n",
            "Epoch 2/25\n",
            "2500/2500 [==============================] - 3s 1ms/step - loss: 0.8115 - accuracy: 0.7619 - val_loss: 0.7720 - val_accuracy: 0.7808\n",
            "Epoch 3/25\n",
            "2500/2500 [==============================] - 3s 1ms/step - loss: 0.7371 - accuracy: 0.7838 - val_loss: 0.7164 - val_accuracy: 0.7936\n",
            "Epoch 4/25\n",
            "2500/2500 [==============================] - 3s 1ms/step - loss: 0.6859 - accuracy: 0.7991 - val_loss: 0.6842 - val_accuracy: 0.8009\n",
            "Epoch 5/25\n",
            "2500/2500 [==============================] - 3s 1ms/step - loss: 0.6462 - accuracy: 0.8094 - val_loss: 0.6488 - val_accuracy: 0.8118\n",
            "Epoch 6/25\n",
            "2500/2500 [==============================] - 3s 1ms/step - loss: 0.6165 - accuracy: 0.8173 - val_loss: 0.6376 - val_accuracy: 0.8131\n",
            "Epoch 7/25\n",
            "2500/2500 [==============================] - 3s 1ms/step - loss: 0.5917 - accuracy: 0.8246 - val_loss: 0.6193 - val_accuracy: 0.8198\n",
            "Epoch 8/25\n",
            "2500/2500 [==============================] - 3s 1ms/step - loss: 0.5722 - accuracy: 0.8302 - val_loss: 0.6117 - val_accuracy: 0.8210\n",
            "Epoch 9/25\n",
            "2500/2500 [==============================] - 3s 1ms/step - loss: 0.5560 - accuracy: 0.8351 - val_loss: 0.5919 - val_accuracy: 0.8263\n",
            "Epoch 10/25\n",
            "2500/2500 [==============================] - 3s 1ms/step - loss: 0.5424 - accuracy: 0.8390 - val_loss: 0.5828 - val_accuracy: 0.8281\n",
            "Epoch 11/25\n",
            "2500/2500 [==============================] - 3s 1ms/step - loss: 0.5308 - accuracy: 0.8427 - val_loss: 0.5791 - val_accuracy: 0.8299\n",
            "Epoch 12/25\n",
            "2500/2500 [==============================] - 3s 1ms/step - loss: 0.5209 - accuracy: 0.8450 - val_loss: 0.5700 - val_accuracy: 0.8314\n",
            "Epoch 13/25\n",
            "2500/2500 [==============================] - 3s 1ms/step - loss: 0.5107 - accuracy: 0.8479 - val_loss: 0.5610 - val_accuracy: 0.8355\n",
            "Epoch 14/25\n",
            "2500/2500 [==============================] - 3s 1ms/step - loss: 0.5027 - accuracy: 0.8501 - val_loss: 0.5602 - val_accuracy: 0.8349\n",
            "Epoch 15/25\n",
            "2500/2500 [==============================] - 3s 1ms/step - loss: 0.4957 - accuracy: 0.8519 - val_loss: 0.5594 - val_accuracy: 0.8366\n",
            "Epoch 16/25\n",
            "2500/2500 [==============================] - 3s 1ms/step - loss: 0.4889 - accuracy: 0.8543 - val_loss: 0.5618 - val_accuracy: 0.8353\n",
            "Epoch 17/25\n",
            "2500/2500 [==============================] - 3s 1ms/step - loss: 0.4821 - accuracy: 0.8561 - val_loss: 0.5559 - val_accuracy: 0.8353\n",
            "Epoch 18/25\n",
            "2500/2500 [==============================] - 3s 1ms/step - loss: 0.4767 - accuracy: 0.8570 - val_loss: 0.5498 - val_accuracy: 0.8392\n",
            "Epoch 19/25\n",
            "2500/2500 [==============================] - 3s 1ms/step - loss: 0.4715 - accuracy: 0.8585 - val_loss: 0.5444 - val_accuracy: 0.8417\n",
            "Epoch 20/25\n",
            "2500/2500 [==============================] - 3s 1ms/step - loss: 0.4669 - accuracy: 0.8601 - val_loss: 0.5478 - val_accuracy: 0.8386\n",
            "Epoch 21/25\n",
            "2500/2500 [==============================] - 3s 1ms/step - loss: 0.4617 - accuracy: 0.8611 - val_loss: 0.5432 - val_accuracy: 0.8399\n",
            "Epoch 22/25\n",
            "2500/2500 [==============================] - 3s 1ms/step - loss: 0.4580 - accuracy: 0.8626 - val_loss: 0.5394 - val_accuracy: 0.8424\n",
            "Epoch 23/25\n",
            "2500/2500 [==============================] - 3s 1ms/step - loss: 0.4536 - accuracy: 0.8631 - val_loss: 0.5395 - val_accuracy: 0.8418\n",
            "Epoch 24/25\n",
            "2500/2500 [==============================] - 3s 1ms/step - loss: 0.4497 - accuracy: 0.8646 - val_loss: 0.5426 - val_accuracy: 0.8398\n",
            "Epoch 25/25\n",
            "2500/2500 [==============================] - 3s 1ms/step - loss: 0.4458 - accuracy: 0.8656 - val_loss: 0.5379 - val_accuracy: 0.8436\n"
          ],
          "name": "stdout"
        }
      ]
    },
    {
      "cell_type": "code",
      "metadata": {
        "id": "P2QF7y3yvfS1",
        "outputId": "5a287f43-7de6-47d0-9f4f-95a58b79c4fc",
        "colab": {
          "base_uri": "https://localhost:8080/"
        }
      },
      "source": [
        "lr01 = create_model(learning_rate=.01).fit(X_train, y_train,\n",
        "    epochs=25,\n",
        "    batch_size=32,\n",
        "    validation_data=(X_test, y_test)\n",
        ")"
      ],
      "execution_count": 17,
      "outputs": [
        {
          "output_type": "stream",
          "text": [
            "Epoch 1/25\n",
            "2500/2500 [==============================] - 3s 1ms/step - loss: 1.1216 - accuracy: 0.6528 - val_loss: 0.8365 - val_accuracy: 0.7555\n",
            "Epoch 2/25\n",
            "2500/2500 [==============================] - 3s 1ms/step - loss: 0.7852 - accuracy: 0.7689 - val_loss: 0.7583 - val_accuracy: 0.7801\n",
            "Epoch 3/25\n",
            "2500/2500 [==============================] - 3s 1ms/step - loss: 0.7162 - accuracy: 0.7896 - val_loss: 0.7068 - val_accuracy: 0.7926\n",
            "Epoch 4/25\n",
            "2500/2500 [==============================] - 3s 1ms/step - loss: 0.6685 - accuracy: 0.8039 - val_loss: 0.6668 - val_accuracy: 0.8054\n",
            "Epoch 5/25\n",
            "2500/2500 [==============================] - 3s 1ms/step - loss: 0.6331 - accuracy: 0.8128 - val_loss: 0.6394 - val_accuracy: 0.8128\n",
            "Epoch 6/25\n",
            "2500/2500 [==============================] - 3s 1ms/step - loss: 0.6072 - accuracy: 0.8201 - val_loss: 0.6249 - val_accuracy: 0.8147\n",
            "Epoch 7/25\n",
            "2500/2500 [==============================] - 3s 1ms/step - loss: 0.5849 - accuracy: 0.8251 - val_loss: 0.6087 - val_accuracy: 0.8209\n",
            "Epoch 8/25\n",
            "2500/2500 [==============================] - 3s 1ms/step - loss: 0.5670 - accuracy: 0.8306 - val_loss: 0.5962 - val_accuracy: 0.8237\n",
            "Epoch 9/25\n",
            "2500/2500 [==============================] - 3s 1ms/step - loss: 0.5517 - accuracy: 0.8351 - val_loss: 0.5846 - val_accuracy: 0.8266\n",
            "Epoch 10/25\n",
            "2500/2500 [==============================] - 3s 1ms/step - loss: 0.5384 - accuracy: 0.8391 - val_loss: 0.5782 - val_accuracy: 0.8297\n",
            "Epoch 11/25\n",
            "2500/2500 [==============================] - 3s 1ms/step - loss: 0.5270 - accuracy: 0.8416 - val_loss: 0.5742 - val_accuracy: 0.8308\n",
            "Epoch 12/25\n",
            "2500/2500 [==============================] - 3s 1ms/step - loss: 0.5172 - accuracy: 0.8450 - val_loss: 0.5766 - val_accuracy: 0.8304\n",
            "Epoch 13/25\n",
            "2500/2500 [==============================] - 3s 1ms/step - loss: 0.5088 - accuracy: 0.8480 - val_loss: 0.5589 - val_accuracy: 0.8357\n",
            "Epoch 14/25\n",
            "2500/2500 [==============================] - 3s 1ms/step - loss: 0.5004 - accuracy: 0.8505 - val_loss: 0.5556 - val_accuracy: 0.8375\n",
            "Epoch 15/25\n",
            "2500/2500 [==============================] - 3s 1ms/step - loss: 0.4935 - accuracy: 0.8521 - val_loss: 0.5595 - val_accuracy: 0.8349\n",
            "Epoch 16/25\n",
            "2500/2500 [==============================] - 3s 1ms/step - loss: 0.4865 - accuracy: 0.8550 - val_loss: 0.5504 - val_accuracy: 0.8388\n",
            "Epoch 17/25\n",
            "2500/2500 [==============================] - 3s 1ms/step - loss: 0.4803 - accuracy: 0.8559 - val_loss: 0.5482 - val_accuracy: 0.8391\n",
            "Epoch 18/25\n",
            "2500/2500 [==============================] - 3s 1ms/step - loss: 0.4755 - accuracy: 0.8580 - val_loss: 0.5492 - val_accuracy: 0.8389\n",
            "Epoch 19/25\n",
            "2500/2500 [==============================] - 3s 1ms/step - loss: 0.4699 - accuracy: 0.8591 - val_loss: 0.5506 - val_accuracy: 0.8382\n",
            "Epoch 20/25\n",
            "2500/2500 [==============================] - 3s 1ms/step - loss: 0.4648 - accuracy: 0.8602 - val_loss: 0.5412 - val_accuracy: 0.8408\n",
            "Epoch 21/25\n",
            "2500/2500 [==============================] - 3s 1ms/step - loss: 0.4601 - accuracy: 0.8621 - val_loss: 0.5372 - val_accuracy: 0.8412\n",
            "Epoch 22/25\n",
            "2500/2500 [==============================] - 3s 1ms/step - loss: 0.4558 - accuracy: 0.8636 - val_loss: 0.5408 - val_accuracy: 0.8398\n",
            "Epoch 23/25\n",
            "2500/2500 [==============================] - 3s 1ms/step - loss: 0.4513 - accuracy: 0.8647 - val_loss: 0.5354 - val_accuracy: 0.8418\n",
            "Epoch 24/25\n",
            "2500/2500 [==============================] - 3s 1ms/step - loss: 0.4473 - accuracy: 0.8656 - val_loss: 0.5377 - val_accuracy: 0.8420\n",
            "Epoch 25/25\n",
            "2500/2500 [==============================] - 5s 2ms/step - loss: 0.4441 - accuracy: 0.8665 - val_loss: 0.5331 - val_accuracy: 0.8433\n"
          ],
          "name": "stdout"
        }
      ]
    },
    {
      "cell_type": "code",
      "metadata": {
        "id": "kX5zEFbhvfaU",
        "outputId": "3ee2d070-5543-4a42-c088-d88d682c5f14",
        "colab": {
          "base_uri": "https://localhost:8080/"
        }
      },
      "source": [
        "lr001 = create_model(learning_rate=.001).fit(X_train, y_train,\n",
        "    epochs=25,\n",
        "    batch_size=32,\n",
        "    validation_data=(X_test, y_test)\n",
        ")"
      ],
      "execution_count": 18,
      "outputs": [
        {
          "output_type": "stream",
          "text": [
            "Epoch 1/25\n",
            "2500/2500 [==============================] - 5s 2ms/step - loss: 1.1782 - accuracy: 0.6290 - val_loss: 0.8804 - val_accuracy: 0.7363\n",
            "Epoch 2/25\n",
            "2500/2500 [==============================] - 3s 1ms/step - loss: 0.8167 - accuracy: 0.7620 - val_loss: 0.7712 - val_accuracy: 0.7772\n",
            "Epoch 3/25\n",
            "2500/2500 [==============================] - 3s 1ms/step - loss: 0.7323 - accuracy: 0.7867 - val_loss: 0.7086 - val_accuracy: 0.7964\n",
            "Epoch 4/25\n",
            "2500/2500 [==============================] - 3s 1ms/step - loss: 0.6787 - accuracy: 0.8018 - val_loss: 0.6689 - val_accuracy: 0.8055\n",
            "Epoch 5/25\n",
            "2500/2500 [==============================] - 3s 1ms/step - loss: 0.6417 - accuracy: 0.8113 - val_loss: 0.6457 - val_accuracy: 0.8107\n",
            "Epoch 6/25\n",
            "2500/2500 [==============================] - 3s 1ms/step - loss: 0.6132 - accuracy: 0.8197 - val_loss: 0.6242 - val_accuracy: 0.8177\n",
            "Epoch 7/25\n",
            "2500/2500 [==============================] - 3s 1ms/step - loss: 0.5913 - accuracy: 0.8262 - val_loss: 0.6131 - val_accuracy: 0.8214\n",
            "Epoch 8/25\n",
            "2500/2500 [==============================] - 3s 1ms/step - loss: 0.5737 - accuracy: 0.8307 - val_loss: 0.6039 - val_accuracy: 0.8256\n",
            "Epoch 9/25\n",
            "2500/2500 [==============================] - 3s 1ms/step - loss: 0.5581 - accuracy: 0.8350 - val_loss: 0.5899 - val_accuracy: 0.8288\n",
            "Epoch 10/25\n",
            "2500/2500 [==============================] - 3s 1ms/step - loss: 0.5446 - accuracy: 0.8385 - val_loss: 0.5804 - val_accuracy: 0.8306\n",
            "Epoch 11/25\n",
            "2500/2500 [==============================] - 3s 1ms/step - loss: 0.5327 - accuracy: 0.8438 - val_loss: 0.5815 - val_accuracy: 0.8296\n",
            "Epoch 12/25\n",
            "2500/2500 [==============================] - 3s 1ms/step - loss: 0.5212 - accuracy: 0.8459 - val_loss: 0.5661 - val_accuracy: 0.8350\n",
            "Epoch 13/25\n",
            "2500/2500 [==============================] - 3s 1ms/step - loss: 0.5116 - accuracy: 0.8489 - val_loss: 0.5659 - val_accuracy: 0.8357\n",
            "Epoch 14/25\n",
            "2500/2500 [==============================] - 3s 1ms/step - loss: 0.5027 - accuracy: 0.8508 - val_loss: 0.5610 - val_accuracy: 0.8385\n",
            "Epoch 15/25\n",
            "2500/2500 [==============================] - 3s 1ms/step - loss: 0.4945 - accuracy: 0.8541 - val_loss: 0.5547 - val_accuracy: 0.8386\n",
            "Epoch 16/25\n",
            "2500/2500 [==============================] - 3s 1ms/step - loss: 0.4874 - accuracy: 0.8549 - val_loss: 0.5546 - val_accuracy: 0.8398\n",
            "Epoch 17/25\n",
            "2500/2500 [==============================] - 3s 1ms/step - loss: 0.4806 - accuracy: 0.8575 - val_loss: 0.5471 - val_accuracy: 0.8432\n",
            "Epoch 18/25\n",
            "2500/2500 [==============================] - 3s 1ms/step - loss: 0.4749 - accuracy: 0.8585 - val_loss: 0.5496 - val_accuracy: 0.8425\n",
            "Epoch 19/25\n",
            "2500/2500 [==============================] - 3s 1ms/step - loss: 0.4694 - accuracy: 0.8597 - val_loss: 0.5496 - val_accuracy: 0.8417\n",
            "Epoch 20/25\n",
            "2500/2500 [==============================] - 3s 1ms/step - loss: 0.4640 - accuracy: 0.8618 - val_loss: 0.5486 - val_accuracy: 0.8418\n",
            "Epoch 21/25\n",
            "2500/2500 [==============================] - 3s 1ms/step - loss: 0.4591 - accuracy: 0.8622 - val_loss: 0.5514 - val_accuracy: 0.8425\n",
            "Epoch 22/25\n",
            "2500/2500 [==============================] - 3s 1ms/step - loss: 0.4548 - accuracy: 0.8643 - val_loss: 0.5397 - val_accuracy: 0.8453\n",
            "Epoch 23/25\n",
            "2500/2500 [==============================] - 3s 1ms/step - loss: 0.4500 - accuracy: 0.8656 - val_loss: 0.5375 - val_accuracy: 0.8453\n",
            "Epoch 24/25\n",
            "2500/2500 [==============================] - 3s 1ms/step - loss: 0.4467 - accuracy: 0.8667 - val_loss: 0.5359 - val_accuracy: 0.8464\n",
            "Epoch 25/25\n",
            "2500/2500 [==============================] - 3s 1ms/step - loss: 0.4429 - accuracy: 0.8670 - val_loss: 0.5338 - val_accuracy: 0.8469\n"
          ],
          "name": "stdout"
        }
      ]
    },
    {
      "cell_type": "code",
      "metadata": {
        "id": "_SA144xx8Luf",
        "outputId": "d0a55922-41ac-47ca-a7fe-6d54728adf32",
        "colab": {
          "base_uri": "https://localhost:8080/"
        }
      },
      "source": [
        "lr0001 = create_model(learning_rate=.0001).fit(X_train, y_train,\n",
        "    epochs=25,\n",
        "    batch_size=32,\n",
        "    validation_data=(X_test, y_test)\n",
        ")"
      ],
      "execution_count": 19,
      "outputs": [
        {
          "output_type": "stream",
          "text": [
            "Epoch 1/25\n",
            "2500/2500 [==============================] - 3s 1ms/step - loss: 1.1401 - accuracy: 0.6434 - val_loss: 0.8529 - val_accuracy: 0.7494\n",
            "Epoch 2/25\n",
            "2500/2500 [==============================] - 3s 1ms/step - loss: 0.8032 - accuracy: 0.7648 - val_loss: 0.7627 - val_accuracy: 0.7785\n",
            "Epoch 3/25\n",
            "2500/2500 [==============================] - 3s 1ms/step - loss: 0.7201 - accuracy: 0.7894 - val_loss: 0.7014 - val_accuracy: 0.7997\n",
            "Epoch 4/25\n",
            "2500/2500 [==============================] - 3s 1ms/step - loss: 0.6675 - accuracy: 0.8045 - val_loss: 0.6623 - val_accuracy: 0.8090\n",
            "Epoch 5/25\n",
            "2500/2500 [==============================] - 3s 1ms/step - loss: 0.6316 - accuracy: 0.8139 - val_loss: 0.6326 - val_accuracy: 0.8167\n",
            "Epoch 6/25\n",
            "2500/2500 [==============================] - 3s 1ms/step - loss: 0.6030 - accuracy: 0.8222 - val_loss: 0.6132 - val_accuracy: 0.8191\n",
            "Epoch 7/25\n",
            "2500/2500 [==============================] - 3s 1ms/step - loss: 0.5791 - accuracy: 0.8284 - val_loss: 0.5976 - val_accuracy: 0.8245\n",
            "Epoch 8/25\n",
            "2500/2500 [==============================] - 3s 1ms/step - loss: 0.5595 - accuracy: 0.8342 - val_loss: 0.5867 - val_accuracy: 0.8264\n",
            "Epoch 9/25\n",
            "2500/2500 [==============================] - 3s 1ms/step - loss: 0.5417 - accuracy: 0.8389 - val_loss: 0.5768 - val_accuracy: 0.8291\n",
            "Epoch 10/25\n",
            "2500/2500 [==============================] - 3s 1ms/step - loss: 0.5266 - accuracy: 0.8443 - val_loss: 0.5618 - val_accuracy: 0.8356\n",
            "Epoch 11/25\n",
            "2500/2500 [==============================] - 3s 1ms/step - loss: 0.5138 - accuracy: 0.8466 - val_loss: 0.5537 - val_accuracy: 0.8360\n",
            "Epoch 12/25\n",
            "2500/2500 [==============================] - 3s 1ms/step - loss: 0.5032 - accuracy: 0.8497 - val_loss: 0.5476 - val_accuracy: 0.8397\n",
            "Epoch 13/25\n",
            "2500/2500 [==============================] - 3s 1ms/step - loss: 0.4920 - accuracy: 0.8537 - val_loss: 0.5434 - val_accuracy: 0.8399\n",
            "Epoch 14/25\n",
            "2500/2500 [==============================] - 3s 1ms/step - loss: 0.4832 - accuracy: 0.8566 - val_loss: 0.5397 - val_accuracy: 0.8417\n",
            "Epoch 15/25\n",
            "2500/2500 [==============================] - 3s 1ms/step - loss: 0.4755 - accuracy: 0.8590 - val_loss: 0.5372 - val_accuracy: 0.8424\n",
            "Epoch 16/25\n",
            "2500/2500 [==============================] - 3s 1ms/step - loss: 0.4687 - accuracy: 0.8608 - val_loss: 0.5365 - val_accuracy: 0.8435\n",
            "Epoch 17/25\n",
            "2500/2500 [==============================] - 3s 1ms/step - loss: 0.4623 - accuracy: 0.8624 - val_loss: 0.5290 - val_accuracy: 0.8457\n",
            "Epoch 18/25\n",
            "2500/2500 [==============================] - 3s 1ms/step - loss: 0.4560 - accuracy: 0.8645 - val_loss: 0.5415 - val_accuracy: 0.8424\n",
            "Epoch 19/25\n",
            "2500/2500 [==============================] - 3s 1ms/step - loss: 0.4513 - accuracy: 0.8663 - val_loss: 0.5277 - val_accuracy: 0.8455\n",
            "Epoch 20/25\n",
            "2500/2500 [==============================] - 3s 1ms/step - loss: 0.4462 - accuracy: 0.8675 - val_loss: 0.5269 - val_accuracy: 0.8477\n",
            "Epoch 21/25\n",
            "2500/2500 [==============================] - 4s 1ms/step - loss: 0.4422 - accuracy: 0.8681 - val_loss: 0.5278 - val_accuracy: 0.8464\n",
            "Epoch 22/25\n",
            "2500/2500 [==============================] - 4s 1ms/step - loss: 0.4378 - accuracy: 0.8704 - val_loss: 0.5227 - val_accuracy: 0.8500\n",
            "Epoch 23/25\n",
            "2500/2500 [==============================] - 4s 1ms/step - loss: 0.4336 - accuracy: 0.8708 - val_loss: 0.5232 - val_accuracy: 0.8479\n",
            "Epoch 24/25\n",
            "2500/2500 [==============================] - 3s 1ms/step - loss: 0.4302 - accuracy: 0.8720 - val_loss: 0.5234 - val_accuracy: 0.8487\n",
            "Epoch 25/25\n",
            "2500/2500 [==============================] - 3s 1ms/step - loss: 0.4265 - accuracy: 0.8735 - val_loss: 0.5178 - val_accuracy: 0.8512\n"
          ],
          "name": "stdout"
        }
      ]
    },
    {
      "cell_type": "code",
      "metadata": {
        "id": "XTGMDHSV_WiV",
        "outputId": "ae5c75ae-374c-49ab-f8c8-5a2c7128d7f6",
        "colab": {
          "base_uri": "https://localhost:8080/",
          "height": 195
        }
      },
      "source": [
        "learning_rates = []\n",
        "\n",
        "for exp, result in zip([lrOne, lrTenth, lr01, lr001, lr0001], [\"1\", \".1\", \".01\", \".001\", \".0001\"]):\n",
        "    df_lr = pd.DataFrame.from_dict(exp.history)\n",
        "    df_lr['epoch'] = df_lr.index.values\n",
        "    df_lr['learning_rate'] = result\n",
        "    learning_rates.append(df_lr)\n",
        "\n",
        "df_lr = pd.concat(learning_rates)\n",
        "df_lr['learning_rate'] = df_lr['learning_rate'].astype('str')\n",
        "df_lr.head()"
      ],
      "execution_count": 20,
      "outputs": [
        {
          "output_type": "execute_result",
          "data": {
            "text/html": [
              "<div>\n",
              "<style scoped>\n",
              "    .dataframe tbody tr th:only-of-type {\n",
              "        vertical-align: middle;\n",
              "    }\n",
              "\n",
              "    .dataframe tbody tr th {\n",
              "        vertical-align: top;\n",
              "    }\n",
              "\n",
              "    .dataframe thead th {\n",
              "        text-align: right;\n",
              "    }\n",
              "</style>\n",
              "<table border=\"1\" class=\"dataframe\">\n",
              "  <thead>\n",
              "    <tr style=\"text-align: right;\">\n",
              "      <th></th>\n",
              "      <th>loss</th>\n",
              "      <th>accuracy</th>\n",
              "      <th>val_loss</th>\n",
              "      <th>val_accuracy</th>\n",
              "      <th>epoch</th>\n",
              "      <th>learning_rate</th>\n",
              "    </tr>\n",
              "  </thead>\n",
              "  <tbody>\n",
              "    <tr>\n",
              "      <th>0</th>\n",
              "      <td>1.114912</td>\n",
              "      <td>0.653988</td>\n",
              "      <td>0.839144</td>\n",
              "      <td>0.75410</td>\n",
              "      <td>0</td>\n",
              "      <td>1</td>\n",
              "    </tr>\n",
              "    <tr>\n",
              "      <th>1</th>\n",
              "      <td>0.790485</td>\n",
              "      <td>0.766288</td>\n",
              "      <td>0.756676</td>\n",
              "      <td>0.78105</td>\n",
              "      <td>1</td>\n",
              "      <td>1</td>\n",
              "    </tr>\n",
              "    <tr>\n",
              "      <th>2</th>\n",
              "      <td>0.722579</td>\n",
              "      <td>0.787162</td>\n",
              "      <td>0.704776</td>\n",
              "      <td>0.79230</td>\n",
              "      <td>2</td>\n",
              "      <td>1</td>\n",
              "    </tr>\n",
              "    <tr>\n",
              "      <th>3</th>\n",
              "      <td>0.676279</td>\n",
              "      <td>0.802137</td>\n",
              "      <td>0.676546</td>\n",
              "      <td>0.80490</td>\n",
              "      <td>3</td>\n",
              "      <td>1</td>\n",
              "    </tr>\n",
              "    <tr>\n",
              "      <th>4</th>\n",
              "      <td>0.640222</td>\n",
              "      <td>0.812625</td>\n",
              "      <td>0.646921</td>\n",
              "      <td>0.81095</td>\n",
              "      <td>4</td>\n",
              "      <td>1</td>\n",
              "    </tr>\n",
              "  </tbody>\n",
              "</table>\n",
              "</div>"
            ],
            "text/plain": [
              "       loss  accuracy  val_loss  val_accuracy  epoch learning_rate\n",
              "0  1.114912  0.653988  0.839144       0.75410      0             1\n",
              "1  0.790485  0.766288  0.756676       0.78105      1             1\n",
              "2  0.722579  0.787162  0.704776       0.79230      2             1\n",
              "3  0.676279  0.802137  0.676546       0.80490      3             1\n",
              "4  0.640222  0.812625  0.646921       0.81095      4             1"
            ]
          },
          "metadata": {
            "tags": []
          },
          "execution_count": 20
        }
      ]
    },
    {
      "cell_type": "code",
      "metadata": {
        "id": "TTZKeapW_WqK",
        "outputId": "937d0db2-d89a-4fe8-ba17-60d0e028df42",
        "colab": {
          "base_uri": "https://localhost:8080/",
          "height": 279
        }
      },
      "source": [
        "sns.lineplot(x='epoch', y='val_accuracy', hue='learning_rate', data=df_lr);"
      ],
      "execution_count": 21,
      "outputs": [
        {
          "output_type": "display_data",
          "data": {
            "image/png": "[encoded data removed]",
            "text/plain": [
              "<Figure size 432x288 with 1 Axes>"
            ]
          },
          "metadata": {
            "tags": [],
            "needs_background": "light"
          }
        }
      ]
    },
    {
      "cell_type": "code",
      "metadata": {
        "id": "bThWsDJDPLyo",
        "outputId": "33c534f5-404b-4a25-934c-bc626733bd3f",
        "colab": {
          "base_uri": "https://localhost:8080/",
          "height": 279
        }
      },
      "source": [
        "sns.lineplot(x='epoch', y='val_loss', hue='learning_rate', data=df_lr);"
      ],
      "execution_count": 32,
      "outputs": [
        {
          "output_type": "display_data",
          "data": {
            "image/png": "[encoded data removed]",
            "text/plain": [
              "<Figure size 432x288 with 1 Axes>"
            ]
          },
          "metadata": {
            "tags": [],
            "needs_background": "light"
          }
        }
      ]
    },
    {
      "cell_type": "markdown",
      "metadata": {
        "id": "LVC4YuQDPgaQ"
      },
      "source": [
        "Analysis:\n",
        "* Lower Learning Rates yield lower loss and higher accuracy metrics."
      ]
    },
    {
      "cell_type": "markdown",
      "metadata": {
        "id": "gxMtSRhV9Q7I"
      },
      "source": [
        "### Experiment with different Optimizers\n",
        "* Run 5 experiments with various optimizers available in TensorFlow. See list [here](https://www.tensorflow.org/api_docs/python/tf/keras/optimizers)\n",
        "* Visualize the results\n",
        "* Write up an analysis of the experiments and select the \"best\" performing model among your experiments. Make sure to compare against the previous experiments and your model's performance yesterday.\n",
        "* Repeat the experiment combining Learning Rate and different optimizers. Does the best performing model change? "
      ]
    },
    {
      "cell_type": "code",
      "metadata": {
        "id": "ujLuzdNA91ip",
        "outputId": "c4a29794-e466-4f2e-98eb-9dd0b352b36f",
        "colab": {
          "base_uri": "https://localhost:8080/"
        }
      },
      "source": [
        "optSGD = create_model(learning_rate=1).fit(X_train, y_train,\n",
        "    epochs=25,\n",
        "    batch_size=32,\n",
        "    validation_data=(X_test, y_test)\n",
        ")"
      ],
      "execution_count": 22,
      "outputs": [
        {
          "output_type": "stream",
          "text": [
            "Epoch 1/25\n",
            "2500/2500 [==============================] - 3s 1ms/step - loss: 1.1653 - accuracy: 0.6424 - val_loss: 0.8582 - val_accuracy: 0.7513\n",
            "Epoch 2/25\n",
            "2500/2500 [==============================] - 3s 1ms/step - loss: 0.8046 - accuracy: 0.7639 - val_loss: 0.7635 - val_accuracy: 0.7796\n",
            "Epoch 3/25\n",
            "2500/2500 [==============================] - 3s 1ms/step - loss: 0.7254 - accuracy: 0.7877 - val_loss: 0.7068 - val_accuracy: 0.7939\n",
            "Epoch 4/25\n",
            "2500/2500 [==============================] - 3s 1ms/step - loss: 0.6728 - accuracy: 0.8028 - val_loss: 0.6655 - val_accuracy: 0.8044\n",
            "Epoch 5/25\n",
            "2500/2500 [==============================] - 3s 1ms/step - loss: 0.6339 - accuracy: 0.8131 - val_loss: 0.6351 - val_accuracy: 0.8144\n",
            "Epoch 6/25\n",
            "2500/2500 [==============================] - 3s 1ms/step - loss: 0.6035 - accuracy: 0.8209 - val_loss: 0.6252 - val_accuracy: 0.8178\n",
            "Epoch 7/25\n",
            "2500/2500 [==============================] - 3s 1ms/step - loss: 0.5806 - accuracy: 0.8275 - val_loss: 0.6052 - val_accuracy: 0.8245\n",
            "Epoch 8/25\n",
            "2500/2500 [==============================] - 3s 1ms/step - loss: 0.5609 - accuracy: 0.8322 - val_loss: 0.5915 - val_accuracy: 0.8243\n",
            "Epoch 9/25\n",
            "2500/2500 [==============================] - 3s 1ms/step - loss: 0.5466 - accuracy: 0.8372 - val_loss: 0.5817 - val_accuracy: 0.8293\n",
            "Epoch 10/25\n",
            "2500/2500 [==============================] - 3s 1ms/step - loss: 0.5333 - accuracy: 0.8414 - val_loss: 0.5728 - val_accuracy: 0.8321\n",
            "Epoch 11/25\n",
            "2500/2500 [==============================] - 3s 1ms/step - loss: 0.5224 - accuracy: 0.8444 - val_loss: 0.5647 - val_accuracy: 0.8362\n",
            "Epoch 12/25\n",
            "2500/2500 [==============================] - 3s 1ms/step - loss: 0.5123 - accuracy: 0.8474 - val_loss: 0.5588 - val_accuracy: 0.8368\n",
            "Epoch 13/25\n",
            "2500/2500 [==============================] - 3s 1ms/step - loss: 0.5031 - accuracy: 0.8514 - val_loss: 0.5607 - val_accuracy: 0.8364\n",
            "Epoch 14/25\n",
            "2500/2500 [==============================] - 3s 1ms/step - loss: 0.4948 - accuracy: 0.8534 - val_loss: 0.5631 - val_accuracy: 0.8374\n",
            "Epoch 15/25\n",
            "2500/2500 [==============================] - 3s 1ms/step - loss: 0.4874 - accuracy: 0.8551 - val_loss: 0.5514 - val_accuracy: 0.8395\n",
            "Epoch 16/25\n",
            "2500/2500 [==============================] - 3s 1ms/step - loss: 0.4797 - accuracy: 0.8570 - val_loss: 0.5446 - val_accuracy: 0.8407\n",
            "Epoch 17/25\n",
            "2500/2500 [==============================] - 3s 1ms/step - loss: 0.4741 - accuracy: 0.8586 - val_loss: 0.5403 - val_accuracy: 0.8427\n",
            "Epoch 18/25\n",
            "2500/2500 [==============================] - 3s 1ms/step - loss: 0.4680 - accuracy: 0.8603 - val_loss: 0.5451 - val_accuracy: 0.8425\n",
            "Epoch 19/25\n",
            "2500/2500 [==============================] - 3s 1ms/step - loss: 0.4617 - accuracy: 0.8623 - val_loss: 0.5377 - val_accuracy: 0.8437\n",
            "Epoch 20/25\n",
            "2500/2500 [==============================] - 3s 1ms/step - loss: 0.4565 - accuracy: 0.8641 - val_loss: 0.5351 - val_accuracy: 0.8437\n",
            "Epoch 21/25\n",
            "2500/2500 [==============================] - 3s 1ms/step - loss: 0.4511 - accuracy: 0.8654 - val_loss: 0.5397 - val_accuracy: 0.8417\n",
            "Epoch 22/25\n",
            "2500/2500 [==============================] - 3s 1ms/step - loss: 0.4465 - accuracy: 0.8673 - val_loss: 0.5345 - val_accuracy: 0.8450\n",
            "Epoch 23/25\n",
            "2500/2500 [==============================] - 3s 1ms/step - loss: 0.4419 - accuracy: 0.8679 - val_loss: 0.5303 - val_accuracy: 0.8464\n",
            "Epoch 24/25\n",
            "2500/2500 [==============================] - 3s 1ms/step - loss: 0.4379 - accuracy: 0.8700 - val_loss: 0.5385 - val_accuracy: 0.8443\n",
            "Epoch 25/25\n",
            "2500/2500 [==============================] - 3s 1ms/step - loss: 0.4339 - accuracy: 0.8698 - val_loss: 0.5333 - val_accuracy: 0.8454\n"
          ],
          "name": "stdout"
        }
      ]
    },
    {
      "cell_type": "code",
      "metadata": {
        "id": "dSA7pYV04dTa",
        "outputId": "cd541c57-b027-425d-f1bc-fb1a6baa9aba",
        "colab": {
          "base_uri": "https://localhost:8080/"
        }
      },
      "source": [
        "optAdam = create_model(learning_rate=1, opt='adam').fit(X_train, y_train,\n",
        "    epochs=25,\n",
        "    batch_size=32,\n",
        "    validation_data=(X_test, y_test)\n",
        ")"
      ],
      "execution_count": 23,
      "outputs": [
        {
          "output_type": "stream",
          "text": [
            "Epoch 1/25\n",
            "2500/2500 [==============================] - 4s 2ms/step - loss: 0.7746 - accuracy: 0.7685 - val_loss: 0.6197 - val_accuracy: 0.8155\n",
            "Epoch 2/25\n",
            "2500/2500 [==============================] - 4s 2ms/step - loss: 0.5774 - accuracy: 0.8273 - val_loss: 0.5744 - val_accuracy: 0.8303\n",
            "Epoch 3/25\n",
            "2500/2500 [==============================] - 4s 2ms/step - loss: 0.5285 - accuracy: 0.8424 - val_loss: 0.5536 - val_accuracy: 0.8373\n",
            "Epoch 4/25\n",
            "2500/2500 [==============================] - 4s 2ms/step - loss: 0.4981 - accuracy: 0.8508 - val_loss: 0.5433 - val_accuracy: 0.8393\n",
            "Epoch 5/25\n",
            "2500/2500 [==============================] - 4s 2ms/step - loss: 0.4777 - accuracy: 0.8572 - val_loss: 0.5322 - val_accuracy: 0.8440\n",
            "Epoch 6/25\n",
            "2500/2500 [==============================] - 4s 2ms/step - loss: 0.4611 - accuracy: 0.8609 - val_loss: 0.5342 - val_accuracy: 0.8438\n",
            "Epoch 7/25\n",
            "2500/2500 [==============================] - 4s 2ms/step - loss: 0.4482 - accuracy: 0.8657 - val_loss: 0.5373 - val_accuracy: 0.8426\n",
            "Epoch 8/25\n",
            "2500/2500 [==============================] - 4s 2ms/step - loss: 0.4376 - accuracy: 0.8684 - val_loss: 0.5283 - val_accuracy: 0.8479\n",
            "Epoch 9/25\n",
            "2500/2500 [==============================] - 4s 2ms/step - loss: 0.4267 - accuracy: 0.8726 - val_loss: 0.5317 - val_accuracy: 0.8471\n",
            "Epoch 10/25\n",
            "2500/2500 [==============================] - 4s 2ms/step - loss: 0.4205 - accuracy: 0.8737 - val_loss: 0.5357 - val_accuracy: 0.8458\n",
            "Epoch 11/25\n",
            "2500/2500 [==============================] - 4s 2ms/step - loss: 0.4119 - accuracy: 0.8758 - val_loss: 0.5320 - val_accuracy: 0.8471\n",
            "Epoch 12/25\n",
            "2500/2500 [==============================] - 4s 2ms/step - loss: 0.4052 - accuracy: 0.8779 - val_loss: 0.5274 - val_accuracy: 0.8490\n",
            "Epoch 13/25\n",
            "2500/2500 [==============================] - 4s 2ms/step - loss: 0.3994 - accuracy: 0.8786 - val_loss: 0.5296 - val_accuracy: 0.8496\n",
            "Epoch 14/25\n",
            "2500/2500 [==============================] - 4s 2ms/step - loss: 0.3943 - accuracy: 0.8808 - val_loss: 0.5345 - val_accuracy: 0.8493\n",
            "Epoch 15/25\n",
            "2500/2500 [==============================] - 4s 2ms/step - loss: 0.3876 - accuracy: 0.8819 - val_loss: 0.5477 - val_accuracy: 0.8462\n",
            "Epoch 16/25\n",
            "2500/2500 [==============================] - 4s 2ms/step - loss: 0.3856 - accuracy: 0.8834 - val_loss: 0.5317 - val_accuracy: 0.8474\n",
            "Epoch 17/25\n",
            "2500/2500 [==============================] - 4s 2ms/step - loss: 0.3796 - accuracy: 0.8849 - val_loss: 0.5400 - val_accuracy: 0.8469\n",
            "Epoch 18/25\n",
            "2500/2500 [==============================] - 4s 2ms/step - loss: 0.3757 - accuracy: 0.8861 - val_loss: 0.5380 - val_accuracy: 0.8479\n",
            "Epoch 19/25\n",
            "2500/2500 [==============================] - 4s 2ms/step - loss: 0.3726 - accuracy: 0.8860 - val_loss: 0.5395 - val_accuracy: 0.8480\n",
            "Epoch 20/25\n",
            "2500/2500 [==============================] - 4s 2ms/step - loss: 0.3679 - accuracy: 0.8875 - val_loss: 0.5475 - val_accuracy: 0.8483\n",
            "Epoch 21/25\n",
            "2500/2500 [==============================] - 4s 2ms/step - loss: 0.3668 - accuracy: 0.8885 - val_loss: 0.5421 - val_accuracy: 0.8475\n",
            "Epoch 22/25\n",
            "2500/2500 [==============================] - 4s 2ms/step - loss: 0.3619 - accuracy: 0.8894 - val_loss: 0.5451 - val_accuracy: 0.8500\n",
            "Epoch 23/25\n",
            "2500/2500 [==============================] - 4s 2ms/step - loss: 0.3601 - accuracy: 0.8908 - val_loss: 0.5552 - val_accuracy: 0.8486\n",
            "Epoch 24/25\n",
            "2500/2500 [==============================] - 4s 2ms/step - loss: 0.3563 - accuracy: 0.8915 - val_loss: 0.5536 - val_accuracy: 0.8469\n",
            "Epoch 25/25\n",
            "2500/2500 [==============================] - 4s 2ms/step - loss: 0.3526 - accuracy: 0.8912 - val_loss: 0.5626 - val_accuracy: 0.8461\n"
          ],
          "name": "stdout"
        }
      ]
    },
    {
      "cell_type": "code",
      "metadata": {
        "id": "yw4NiFCm4ddr",
        "outputId": "fcce17c7-655e-43a5-f31b-880b51b86484",
        "colab": {
          "base_uri": "https://localhost:8080/"
        }
      },
      "source": [
        "optRMSprop = create_model(learning_rate=1, opt='RMSprop').fit(X_train, y_train,\n",
        "    epochs=25,\n",
        "    batch_size=32,\n",
        "    validation_data=(X_test, y_test)\n",
        ")"
      ],
      "execution_count": 24,
      "outputs": [
        {
          "output_type": "stream",
          "text": [
            "Epoch 1/25\n",
            "2500/2500 [==============================] - 4s 2ms/step - loss: 0.8063 - accuracy: 0.7588 - val_loss: 0.6763 - val_accuracy: 0.7986\n",
            "Epoch 2/25\n",
            "2500/2500 [==============================] - 4s 2ms/step - loss: 0.6081 - accuracy: 0.8196 - val_loss: 0.5871 - val_accuracy: 0.8285\n",
            "Epoch 3/25\n",
            "2500/2500 [==============================] - 4s 2ms/step - loss: 0.5498 - accuracy: 0.8363 - val_loss: 0.5780 - val_accuracy: 0.8333\n",
            "Epoch 4/25\n",
            "2500/2500 [==============================] - 4s 2ms/step - loss: 0.5201 - accuracy: 0.8456 - val_loss: 0.5630 - val_accuracy: 0.8382\n",
            "Epoch 5/25\n",
            "2500/2500 [==============================] - 4s 2ms/step - loss: 0.5041 - accuracy: 0.8517 - val_loss: 0.5699 - val_accuracy: 0.8396\n",
            "Epoch 6/25\n",
            "2500/2500 [==============================] - 4s 2ms/step - loss: 0.4911 - accuracy: 0.8549 - val_loss: 0.5822 - val_accuracy: 0.8362\n",
            "Epoch 7/25\n",
            "2500/2500 [==============================] - 4s 2ms/step - loss: 0.4824 - accuracy: 0.8578 - val_loss: 0.5715 - val_accuracy: 0.8365\n",
            "Epoch 8/25\n",
            "2500/2500 [==============================] - 4s 2ms/step - loss: 0.4749 - accuracy: 0.8599 - val_loss: 0.5845 - val_accuracy: 0.8356\n",
            "Epoch 9/25\n",
            "2500/2500 [==============================] - 4s 2ms/step - loss: 0.4681 - accuracy: 0.8621 - val_loss: 0.5792 - val_accuracy: 0.8396\n",
            "Epoch 10/25\n",
            "2500/2500 [==============================] - 4s 2ms/step - loss: 0.4650 - accuracy: 0.8647 - val_loss: 0.5831 - val_accuracy: 0.8387\n",
            "Epoch 11/25\n",
            "2500/2500 [==============================] - 4s 2ms/step - loss: 0.4597 - accuracy: 0.8641 - val_loss: 0.6009 - val_accuracy: 0.8357\n",
            "Epoch 12/25\n",
            "2500/2500 [==============================] - 4s 2ms/step - loss: 0.4566 - accuracy: 0.8655 - val_loss: 0.6107 - val_accuracy: 0.8367\n",
            "Epoch 13/25\n",
            "2500/2500 [==============================] - 4s 2ms/step - loss: 0.4526 - accuracy: 0.8667 - val_loss: 0.5967 - val_accuracy: 0.8425\n",
            "Epoch 14/25\n",
            "2500/2500 [==============================] - 4s 1ms/step - loss: 0.4504 - accuracy: 0.8670 - val_loss: 0.6235 - val_accuracy: 0.8397\n",
            "Epoch 15/25\n",
            "2500/2500 [==============================] - 4s 1ms/step - loss: 0.4480 - accuracy: 0.8683 - val_loss: 0.6138 - val_accuracy: 0.8388\n",
            "Epoch 16/25\n",
            "2500/2500 [==============================] - 4s 2ms/step - loss: 0.4457 - accuracy: 0.8694 - val_loss: 0.6416 - val_accuracy: 0.8354\n",
            "Epoch 17/25\n",
            "2500/2500 [==============================] - 4s 2ms/step - loss: 0.4469 - accuracy: 0.8699 - val_loss: 0.6415 - val_accuracy: 0.8309\n",
            "Epoch 18/25\n",
            "2500/2500 [==============================] - 4s 2ms/step - loss: 0.4459 - accuracy: 0.8693 - val_loss: 0.6242 - val_accuracy: 0.8329\n",
            "Epoch 19/25\n",
            "2500/2500 [==============================] - 4s 2ms/step - loss: 0.4445 - accuracy: 0.8716 - val_loss: 0.6435 - val_accuracy: 0.8335\n",
            "Epoch 20/25\n",
            "2500/2500 [==============================] - 4s 2ms/step - loss: 0.4443 - accuracy: 0.8709 - val_loss: 0.6577 - val_accuracy: 0.8286\n",
            "Epoch 21/25\n",
            "2500/2500 [==============================] - 4s 2ms/step - loss: 0.4444 - accuracy: 0.8705 - val_loss: 0.6785 - val_accuracy: 0.8365\n",
            "Epoch 22/25\n",
            "2500/2500 [==============================] - 4s 2ms/step - loss: 0.4443 - accuracy: 0.8713 - val_loss: 0.6653 - val_accuracy: 0.8313\n",
            "Epoch 23/25\n",
            "2500/2500 [==============================] - 4s 2ms/step - loss: 0.4463 - accuracy: 0.8717 - val_loss: 0.6572 - val_accuracy: 0.8304\n",
            "Epoch 24/25\n",
            "2500/2500 [==============================] - 4s 2ms/step - loss: 0.4473 - accuracy: 0.8710 - val_loss: 0.7200 - val_accuracy: 0.8267\n",
            "Epoch 25/25\n",
            "2500/2500 [==============================] - 4s 1ms/step - loss: 0.4471 - accuracy: 0.8708 - val_loss: 0.6960 - val_accuracy: 0.8295\n"
          ],
          "name": "stdout"
        }
      ]
    },
    {
      "cell_type": "code",
      "metadata": {
        "id": "DmnN23H64doR",
        "outputId": "4f6941d0-0c5c-4c5a-f4ea-a5811b696aa3",
        "colab": {
          "base_uri": "https://localhost:8080/"
        }
      },
      "source": [
        "optFtrl = create_model(learning_rate=1, opt='Ftrl').fit(X_train, y_train,\n",
        "    epochs=25,\n",
        "    batch_size=32,\n",
        "    validation_data=(X_test, y_test)\n",
        ")"
      ],
      "execution_count": 25,
      "outputs": [
        {
          "output_type": "stream",
          "text": [
            "Epoch 1/25\n",
            "2500/2500 [==============================] - 4s 2ms/step - loss: 2.3027 - accuracy: 0.0979 - val_loss: 2.3026 - val_accuracy: 0.0971\n",
            "Epoch 2/25\n",
            "2500/2500 [==============================] - 4s 2ms/step - loss: 2.3026 - accuracy: 0.0999 - val_loss: 2.3026 - val_accuracy: 0.0971\n",
            "Epoch 3/25\n",
            "2500/2500 [==============================] - 4s 2ms/step - loss: 2.3026 - accuracy: 0.1004 - val_loss: 2.3026 - val_accuracy: 0.0971\n",
            "Epoch 4/25\n",
            "2500/2500 [==============================] - 4s 2ms/step - loss: 2.3026 - accuracy: 0.1007 - val_loss: 2.3026 - val_accuracy: 0.0971\n",
            "Epoch 5/25\n",
            "2500/2500 [==============================] - 5s 2ms/step - loss: 2.3026 - accuracy: 0.1007 - val_loss: 2.3026 - val_accuracy: 0.0971\n",
            "Epoch 6/25\n",
            "2500/2500 [==============================] - 5s 2ms/step - loss: 2.3026 - accuracy: 0.1007 - val_loss: 2.3026 - val_accuracy: 0.0971\n",
            "Epoch 7/25\n",
            "2500/2500 [==============================] - 4s 2ms/step - loss: 2.3026 - accuracy: 0.1005 - val_loss: 2.3026 - val_accuracy: 0.0971\n",
            "Epoch 8/25\n",
            "2500/2500 [==============================] - 4s 2ms/step - loss: 2.3026 - accuracy: 0.1007 - val_loss: 2.3026 - val_accuracy: 0.0971\n",
            "Epoch 9/25\n",
            "2500/2500 [==============================] - 4s 2ms/step - loss: 2.3026 - accuracy: 0.1007 - val_loss: 2.3026 - val_accuracy: 0.0971\n",
            "Epoch 10/25\n",
            "2500/2500 [==============================] - 4s 2ms/step - loss: 2.3026 - accuracy: 0.1007 - val_loss: 2.3026 - val_accuracy: 0.0971\n",
            "Epoch 11/25\n",
            "2500/2500 [==============================] - 4s 2ms/step - loss: 2.3026 - accuracy: 0.1007 - val_loss: 2.3026 - val_accuracy: 0.0971\n",
            "Epoch 12/25\n",
            "2500/2500 [==============================] - 4s 2ms/step - loss: 2.3026 - accuracy: 0.1007 - val_loss: 2.3026 - val_accuracy: 0.0971\n",
            "Epoch 13/25\n",
            "2500/2500 [==============================] - 4s 2ms/step - loss: 2.3026 - accuracy: 0.1007 - val_loss: 2.3026 - val_accuracy: 0.0971\n",
            "Epoch 14/25\n",
            "2500/2500 [==============================] - 4s 2ms/step - loss: 2.3026 - accuracy: 0.1007 - val_loss: 2.3026 - val_accuracy: 0.0971\n",
            "Epoch 15/25\n",
            "2500/2500 [==============================] - 4s 2ms/step - loss: 2.3026 - accuracy: 0.1007 - val_loss: 2.3026 - val_accuracy: 0.0971\n",
            "Epoch 16/25\n",
            "2500/2500 [==============================] - 4s 2ms/step - loss: 2.3026 - accuracy: 0.1007 - val_loss: 2.3026 - val_accuracy: 0.0971\n",
            "Epoch 17/25\n",
            "2500/2500 [==============================] - 4s 2ms/step - loss: 2.3026 - accuracy: 0.1007 - val_loss: 2.3026 - val_accuracy: 0.0971\n",
            "Epoch 18/25\n",
            "2500/2500 [==============================] - 4s 2ms/step - loss: 2.3026 - accuracy: 0.1007 - val_loss: 2.3026 - val_accuracy: 0.0971\n",
            "Epoch 19/25\n",
            "2500/2500 [==============================] - 4s 2ms/step - loss: 2.3026 - accuracy: 0.1007 - val_loss: 2.3026 - val_accuracy: 0.0971\n",
            "Epoch 20/25\n",
            "2500/2500 [==============================] - 4s 2ms/step - loss: 2.3026 - accuracy: 0.1007 - val_loss: 2.3026 - val_accuracy: 0.0971\n",
            "Epoch 21/25\n",
            "2500/2500 [==============================] - 4s 2ms/step - loss: 2.3026 - accuracy: 0.1007 - val_loss: 2.3026 - val_accuracy: 0.0971\n",
            "Epoch 22/25\n",
            "2500/2500 [==============================] - 4s 2ms/step - loss: 2.3026 - accuracy: 0.1007 - val_loss: 2.3026 - val_accuracy: 0.0971\n",
            "Epoch 23/25\n",
            "2500/2500 [==============================] - 4s 2ms/step - loss: 2.3026 - accuracy: 0.1007 - val_loss: 2.3026 - val_accuracy: 0.0971\n",
            "Epoch 24/25\n",
            "2500/2500 [==============================] - 4s 2ms/step - loss: 2.3026 - accuracy: 0.1007 - val_loss: 2.3026 - val_accuracy: 0.0971\n",
            "Epoch 25/25\n",
            "2500/2500 [==============================] - 4s 2ms/step - loss: 2.3026 - accuracy: 0.1007 - val_loss: 2.3026 - val_accuracy: 0.0971\n"
          ],
          "name": "stdout"
        }
      ]
    },
    {
      "cell_type": "code",
      "metadata": {
        "id": "tu9rADPe4dyv",
        "outputId": "5d051fbc-8ec9-4a57-dc45-e1c4f3865519",
        "colab": {
          "base_uri": "https://localhost:8080/"
        }
      },
      "source": [
        "optAdaDelta = create_model(learning_rate=1, opt='Adadelta').fit(X_train, y_train,\n",
        "    epochs=25,\n",
        "    batch_size=32,\n",
        "    validation_data=(X_test, y_test)\n",
        ")"
      ],
      "execution_count": 26,
      "outputs": [
        {
          "output_type": "stream",
          "text": [
            "Epoch 1/25\n",
            "2500/2500 [==============================] - 4s 1ms/step - loss: 2.3729 - accuracy: 0.1438 - val_loss: 2.3338 - val_accuracy: 0.1558\n",
            "Epoch 2/25\n",
            "2500/2500 [==============================] - 3s 1ms/step - loss: 2.2979 - accuracy: 0.1737 - val_loss: 2.2729 - val_accuracy: 0.1798\n",
            "Epoch 3/25\n",
            "2500/2500 [==============================] - 4s 1ms/step - loss: 2.2434 - accuracy: 0.1979 - val_loss: 2.2232 - val_accuracy: 0.2046\n",
            "Epoch 4/25\n",
            "2500/2500 [==============================] - 3s 1ms/step - loss: 2.1954 - accuracy: 0.2257 - val_loss: 2.1765 - val_accuracy: 0.2343\n",
            "Epoch 5/25\n",
            "2500/2500 [==============================] - 3s 1ms/step - loss: 2.1490 - accuracy: 0.2544 - val_loss: 2.1308 - val_accuracy: 0.2634\n",
            "Epoch 6/25\n",
            "2500/2500 [==============================] - 4s 1ms/step - loss: 2.1030 - accuracy: 0.2832 - val_loss: 2.0848 - val_accuracy: 0.2907\n",
            "Epoch 7/25\n",
            "2500/2500 [==============================] - 3s 1ms/step - loss: 2.0568 - accuracy: 0.3084 - val_loss: 2.0383 - val_accuracy: 0.3138\n",
            "Epoch 8/25\n",
            "2500/2500 [==============================] - 3s 1ms/step - loss: 2.0097 - accuracy: 0.3311 - val_loss: 1.9912 - val_accuracy: 0.3336\n",
            "Epoch 9/25\n",
            "2500/2500 [==============================] - 3s 1ms/step - loss: 1.9621 - accuracy: 0.3518 - val_loss: 1.9437 - val_accuracy: 0.3535\n",
            "Epoch 10/25\n",
            "2500/2500 [==============================] - 3s 1ms/step - loss: 1.9144 - accuracy: 0.3712 - val_loss: 1.8959 - val_accuracy: 0.3726\n",
            "Epoch 11/25\n",
            "2500/2500 [==============================] - 4s 1ms/step - loss: 1.8668 - accuracy: 0.3897 - val_loss: 1.8486 - val_accuracy: 0.3911\n",
            "Epoch 12/25\n",
            "2500/2500 [==============================] - 3s 1ms/step - loss: 1.8200 - accuracy: 0.4079 - val_loss: 1.8026 - val_accuracy: 0.4088\n",
            "Epoch 13/25\n",
            "2500/2500 [==============================] - 3s 1ms/step - loss: 1.7748 - accuracy: 0.4269 - val_loss: 1.7580 - val_accuracy: 0.4289\n",
            "Epoch 14/25\n",
            "2500/2500 [==============================] - 3s 1ms/step - loss: 1.7313 - accuracy: 0.4469 - val_loss: 1.7154 - val_accuracy: 0.4487\n",
            "Epoch 15/25\n",
            "2500/2500 [==============================] - 3s 1ms/step - loss: 1.6900 - accuracy: 0.4645 - val_loss: 1.6750 - val_accuracy: 0.4672\n",
            "Epoch 16/25\n",
            "2500/2500 [==============================] - 6s 3ms/step - loss: 1.6509 - accuracy: 0.4826 - val_loss: 1.6365 - val_accuracy: 0.4836\n",
            "Epoch 17/25\n",
            "2500/2500 [==============================] - 6s 3ms/step - loss: 1.6137 - accuracy: 0.4995 - val_loss: 1.5999 - val_accuracy: 0.4996\n",
            "Epoch 18/25\n",
            "2500/2500 [==============================] - 4s 2ms/step - loss: 1.5784 - accuracy: 0.5134 - val_loss: 1.5653 - val_accuracy: 0.5155\n",
            "Epoch 19/25\n",
            "2500/2500 [==============================] - 4s 1ms/step - loss: 1.5451 - accuracy: 0.5267 - val_loss: 1.5327 - val_accuracy: 0.5281\n",
            "Epoch 20/25\n",
            "2500/2500 [==============================] - 4s 1ms/step - loss: 1.5136 - accuracy: 0.5393 - val_loss: 1.5017 - val_accuracy: 0.5399\n",
            "Epoch 21/25\n",
            "2500/2500 [==============================] - 4s 1ms/step - loss: 1.4838 - accuracy: 0.5498 - val_loss: 1.4725 - val_accuracy: 0.5508\n",
            "Epoch 22/25\n",
            "2500/2500 [==============================] - 4s 1ms/step - loss: 1.4558 - accuracy: 0.5593 - val_loss: 1.4450 - val_accuracy: 0.5609\n",
            "Epoch 23/25\n",
            "2500/2500 [==============================] - 4s 1ms/step - loss: 1.4294 - accuracy: 0.5672 - val_loss: 1.4190 - val_accuracy: 0.5685\n",
            "Epoch 24/25\n",
            "2500/2500 [==============================] - 4s 1ms/step - loss: 1.4045 - accuracy: 0.5752 - val_loss: 1.3945 - val_accuracy: 0.5763\n",
            "Epoch 25/25\n",
            "2500/2500 [==============================] - 4s 1ms/step - loss: 1.3810 - accuracy: 0.5820 - val_loss: 1.3713 - val_accuracy: 0.5842\n"
          ],
          "name": "stdout"
        }
      ]
    },
    {
      "cell_type": "code",
      "metadata": {
        "id": "PvjBXHP4AhTS",
        "outputId": "88f4a769-d3f2-4d4d-b418-47e7067e62cc",
        "colab": {
          "base_uri": "https://localhost:8080/",
          "height": 195
        }
      },
      "source": [
        "optimizers = []\n",
        "\n",
        "for exp, result in zip([optSGD, optAdam, optRMSprop, optFtrl, optAdaDelta], [\"SGD\", \"Adam\", \"RMSprop\", \"Ftrl\", \"AdaDelta\"]):\n",
        "    df_opt = pd.DataFrame.from_dict(exp.history)\n",
        "    df_opt['epoch'] = df_opt.index.values\n",
        "    df_opt['optimizer'] = result\n",
        "    optimizers.append(df_opt)\n",
        "\n",
        "df_opt = pd.concat(optimizers)\n",
        "df_opt['optimizer'] = df_opt['optimizer'].astype('str')\n",
        "df_opt.head()"
      ],
      "execution_count": 27,
      "outputs": [
        {
          "output_type": "execute_result",
          "data": {
            "text/html": [
              "<div>\n",
              "<style scoped>\n",
              "    .dataframe tbody tr th:only-of-type {\n",
              "        vertical-align: middle;\n",
              "    }\n",
              "\n",
              "    .dataframe tbody tr th {\n",
              "        vertical-align: top;\n",
              "    }\n",
              "\n",
              "    .dataframe thead th {\n",
              "        text-align: right;\n",
              "    }\n",
              "</style>\n",
              "<table border=\"1\" class=\"dataframe\">\n",
              "  <thead>\n",
              "    <tr style=\"text-align: right;\">\n",
              "      <th></th>\n",
              "      <th>loss</th>\n",
              "      <th>accuracy</th>\n",
              "      <th>val_loss</th>\n",
              "      <th>val_accuracy</th>\n",
              "      <th>epoch</th>\n",
              "      <th>optimizer</th>\n",
              "    </tr>\n",
              "  </thead>\n",
              "  <tbody>\n",
              "    <tr>\n",
              "      <th>0</th>\n",
              "      <td>1.165270</td>\n",
              "      <td>0.642412</td>\n",
              "      <td>0.858190</td>\n",
              "      <td>0.75125</td>\n",
              "      <td>0</td>\n",
              "      <td>SGD</td>\n",
              "    </tr>\n",
              "    <tr>\n",
              "      <th>1</th>\n",
              "      <td>0.804631</td>\n",
              "      <td>0.763862</td>\n",
              "      <td>0.763539</td>\n",
              "      <td>0.77960</td>\n",
              "      <td>1</td>\n",
              "      <td>SGD</td>\n",
              "    </tr>\n",
              "    <tr>\n",
              "      <th>2</th>\n",
              "      <td>0.725369</td>\n",
              "      <td>0.787725</td>\n",
              "      <td>0.706757</td>\n",
              "      <td>0.79390</td>\n",
              "      <td>2</td>\n",
              "      <td>SGD</td>\n",
              "    </tr>\n",
              "    <tr>\n",
              "      <th>3</th>\n",
              "      <td>0.672814</td>\n",
              "      <td>0.802813</td>\n",
              "      <td>0.665463</td>\n",
              "      <td>0.80445</td>\n",
              "      <td>3</td>\n",
              "      <td>SGD</td>\n",
              "    </tr>\n",
              "    <tr>\n",
              "      <th>4</th>\n",
              "      <td>0.633860</td>\n",
              "      <td>0.813075</td>\n",
              "      <td>0.635147</td>\n",
              "      <td>0.81440</td>\n",
              "      <td>4</td>\n",
              "      <td>SGD</td>\n",
              "    </tr>\n",
              "  </tbody>\n",
              "</table>\n",
              "</div>"
            ],
            "text/plain": [
              "       loss  accuracy  val_loss  val_accuracy  epoch optimizer\n",
              "0  1.165270  0.642412  0.858190       0.75125      0       SGD\n",
              "1  0.804631  0.763862  0.763539       0.77960      1       SGD\n",
              "2  0.725369  0.787725  0.706757       0.79390      2       SGD\n",
              "3  0.672814  0.802813  0.665463       0.80445      3       SGD\n",
              "4  0.633860  0.813075  0.635147       0.81440      4       SGD"
            ]
          },
          "metadata": {
            "tags": []
          },
          "execution_count": 27
        }
      ]
    },
    {
      "cell_type": "code",
      "metadata": {
        "id": "yOstUni6AhY1",
        "outputId": "f2d9dc0c-0ea5-47f6-96a8-8015545cc926",
        "colab": {
          "base_uri": "https://localhost:8080/",
          "height": 279
        }
      },
      "source": [
        "sns.lineplot(x='epoch', y='val_accuracy', hue='optimizer', data=df_opt);"
      ],
      "execution_count": 28,
      "outputs": [
        {
          "output_type": "display_data",
          "data": {
            "image/png": "[encoded data removed]",
            "text/plain": [
              "<Figure size 432x288 with 1 Axes>"
            ]
          },
          "metadata": {
            "tags": [],
            "needs_background": "light"
          }
        }
      ]
    },
    {
      "cell_type": "markdown",
      "metadata": {
        "id": "-fIivzWjPyN7"
      },
      "source": [
        "Analysis:\n",
        "* Adam performs best with similar results from SGD and RMSprop a close third. \n",
        "* AdaDelta improved with each epoch but still did not reach an acceptable threshold. Ftrl is not helpful for this dataset. "
      ]
    },
    {
      "cell_type": "markdown",
      "metadata": {
        "id": "ydAqeY9S8uHA"
      },
      "source": [
        "### Additional Written Tasks\n",
        "\n",
        "1. Describe the process of backpropagation in your own words: \n",
        "```\n",
        "Backpropagation is an algorithm that updates weights within a neural network, from last to first, at the end of every epoch.\n",
        "```\n",
        "\n"
      ]
    },
    {
      "cell_type": "markdown",
      "metadata": {
        "id": "FwlRJSfBlCvy"
      },
      "source": [
        "## Stretch Goals: \n",
        "\n",
        "- Implement GridSearch on anyone of the experiments\n",
        "- On the learning rate experiments, implement [EarlyStopping](https://www.tensorflow.org/api_docs/python/tf/keras/callbacks/EarlyStopping)\n",
        "- Review material on the math behind gradient descent: \n",
        "\n",
        "  - Gradient Descent\n",
        "    - Gradient Descent, Step-by-Step  by StatQuest w/ Josh Starmer. This will help you understand the gradient descent based optimization that happens underneath the hood of neural networks. It uses a non-neural network example, which I believe is a gentler introduction. You will hear me refer to this technique as \"vanilla\" gradient descent. \n",
        "    - Stochastic Gradient Descent, Clearly Explained!!! by StatQuest w/ Josh Starmer. This builds on the techniques in the previous video.  This technique is the one that is actually implemented inside modern 'nets. \n",
        "These are great resources to help you understand tomorrow's material at a deeper level. I highly recommend watching these ahead of tomorrow.\n",
        "\n",
        "  - Background Math\n",
        "    - Dot products and duality by 3Blue1Brown. Explains the core linear algebra operation happening in today's perceptron.\n",
        "The paradox of the derivative by 3Blue1Brown. Does a great job explaining a derivative. \n",
        "    - Visualizing the chain rule and product rule by 3Blue1Brown. Explains the black magic that happens within Stochastic Gradient Descent. \n",
        "These math resources are very much optional. They can be very heady, but I encourage you to explore. Your understanding of neural networks will greatly increase if you understand this math background.\n",
        "\n",
        "\n"
      ]
    }
  ]
}